{
  "cells": [
    {
      "cell_type": "markdown",
      "metadata": {
        "id": "view-in-github",
        "colab_type": "text"
      },
      "source": [
        "<a href=\"https://colab.research.google.com/github/sharma7056/renuinde577project/blob/main/SupervisedLearning/5%20-%20Neural%20Network/MLP.ipynb\" target=\"_parent\"><img src=\"https://colab.research.google.com/assets/colab-badge.svg\" alt=\"Open In Colab\"/></a>"
      ]
    },
    {
      "cell_type": "markdown",
      "metadata": {
        "id": "z851P51DxbAE"
      },
      "source": [
        "# The Multilayer Perceptron Learning Algorithm"
      ]
    },
    {
      "cell_type": "markdown",
      "metadata": {
        "id": "jfyVYdk3xbAJ"
      },
      "source": [
        "## Introduction"
      ]
    },
    {
      "cell_type": "markdown",
      "metadata": {
        "id": "K5dlv93lxbAK"
      },
      "source": [
        "#### The goal of learning\n",
        "MLP algorithm has four elements:\n",
        "\n",
        "* Input features\n",
        "* Weights and bias\n",
        "* Weighted sum (net sum)\n",
        "* Activation function\n",
        "\n",
        "The objective is to identify weights and biases that can best predict the output true label/value.\n",
        "\n",
        "#### The Activation Function\n",
        "\n",
        "The activation function is used to convert perceptron output. There are two activation functions often used in MLP, sigmoid and ReLU.\n",
        "\n",
        "This notebook uses the **sigmoid** function.\n",
        "\n",
        "$$\\sigma(z)=\\frac {1}{1+e^{-z}}$$\n",
        "\n",
        "\n",
        "Define $L$ is the number of layers, for $l=1,...,L-1$, the preactivation phase is\n",
        "$$z^l=w^l a^{l-1}+b^l$$\n",
        "\n",
        "The postactivation phase is\n",
        "$$a^l=\\sigma(z^l)$$\n",
        "and $a^0=x$."
      ]
    },
    {
      "cell_type": "markdown",
      "metadata": {
        "id": "Fyz1VaJLxbAL"
      },
      "source": [
        "Another commonly used activation function is **ReLU**, Rectified Linear Units.\n",
        "\n",
        "$$R(z)= max(0,z)$$\n",
        "\n",
        "The function returns $0$ when the input is negative, and returns the input value when the input is positive."
      ]
    },
    {
      "cell_type": "markdown",
      "metadata": {
        "id": "evzhOaIwxbAL"
      },
      "source": [
        "\n",
        "\n",
        "#### The Loss Function\n",
        "\n",
        "The loss function is a function represents the differences between the actual value and the predicted value. Loss function provides useful information to update the weights and biases, to minimize the differences, or loss. The total loss of the model would be the sum of the loss on each input data.\n",
        "\n",
        "In our algorithm, we use the Mean Square Error:\n",
        "\n",
        "$$C(w,b;x,y)=\\frac{1}{2} \\sum_{i=1}^n(a_i^{l-1}-y_i)^2$$\n",
        "\n",
        "#### Output Error\n",
        "\n",
        "The output error is\n",
        "\n",
        "$$\\delta^{l-1}=\\triangledown_{a^{l-1}}C \\otimes \\sigma'(z^{l-1})$$\n",
        "\n",
        "#### Neuron Error\n",
        "\n",
        "According to the output error, for $l=L-2,...,1$, the neuron error is\n",
        "\n",
        "$$\\delta^{l}=\\left ( (w^{l+1})^T a^{l+1} \\right ) \\otimes \\sigma'(z^{l})$$\n",
        "\n",
        "#### Stochastic Gradient Descent (SGD)\n",
        "\n",
        "To optimize the parameters, again, we use the idea of gradient descent algorithm. In practice, usually a modification of the gradient descent is used, especially when the dataset is big. In Stochastic Gradient Descent, in each iteration, one data point from the whole dataset is selected randomly and calculated the gradient. Because of the randomness in the SGD, it usually takes a higher number of iterations to reach the minimum.\n",
        "\n",
        "In each epoch of SGD, the working flow is: 1) take an example; 2) feed to the neural network; 3) calculate the gradient and update the weights; 4) repeat 1-3 until the loss converges or reach the maximum number of iteration.\n",
        "\n",
        "Combine with our algorithm, for $l=1,...,L-1$, to update the weights,\n",
        "\n",
        "$$w^l = w^l - \\alpha \\delta^l (a^{l-1})^T$$\n",
        "where $\\alpha$ is the learning rate.\n",
        "\n",
        "#### Mini-Batch Gradient Descent\n",
        "\n",
        "Mini-batch gradient descent is the most common implementation of gradient descent in deep learning or neural network. Instead of using the whole dataset for computation, in mini-batch gradient descent, the training dataset is split into small batches (mini-batches), and these mini-batches are used to calculate and update the gradient. Mini-batch gradient descent can greatly speed up the algorithm.\n",
        "\n",
        "In one epoch of the mini-batch gradient descent, the working flow is: 1) pick a mini-batch; 2) feed to the neural network; 3) calculate the mean gradient and update the weights; 4) repeat 1-3 for the generated mini-batches."
      ]
    },
    {
      "cell_type": "markdown",
      "metadata": {
        "id": "97Oxo1H-xbAM"
      },
      "source": [
        "---\n",
        "\n",
        "## Implementation\n",
        "\n",
        "This notebook implements MLP with a single input layer with $784$ input nodes, 2 hidden layers of arbitrary size ($60$ nodes per layer), and $10$ output nodes. These layers will be denoted $L^0, L^1, L^2,$ and $L^{3}$, respectively.\n",
        "\n",
        "I use sigmoid function and Mean Squared Error as the activation function and loss function respectively.\n",
        "\n",
        "For $l = 1, 2, 3$, layer $l$ will have two phases:\n",
        "\n",
        "* The preactivation phase $z^l = W^la^{l-1} + b^l,$\n",
        "* The postactivation phase $a^l = \\sigma(z^l).$\n",
        "\n",
        "The preactivation phase consists of a weighted linear combination of postactivation values in the previous layer. The postactivation values consists of passing the preactivation value through a chosen activation function element wise. For notational convenience, we let $a^0 = x$, where $x$ is the current input data into our network."
      ]
    },
    {
      "cell_type": "markdown",
      "metadata": {
        "id": "mDAVp4yDxbAN"
      },
      "source": [
        "### About the Fashion MNIST Dataset\n",
        "\n",
        "The [Fashion MNIST](https://keras.io/api/datasets/fashion_mnist/) dataset ia an alternative dataset to the MNIST. It consists of $70000$ $28\\times 28$ grayscale images of $10$ fashion categories, $60000$ of which are typically used as labeled training examples, while the other $10000$ are used for testing your learning model on. The following picture represent a sample of some of the images.\n",
        "\n",
        "\n",
        "<img src=\"https://github.com/sharma7056/renuinde577project/blob/main/SupervisedLearning/5%20-%20Neural%20Network/Image/fashion_mnist-3.0.1.png?raw=1\" alt=\"Drawing\" style=\"width: 500px;\"/>\n",
        "\n",
        "\n",
        "Like the images above, each training and test example is assigned to one of the following labels:\n",
        "\n",
        "* 0 T-shirt/top\n",
        "* 1 Trouser\n",
        "* 2 Pullover\n",
        "* 3 Dress\n",
        "* 4 Coat\n",
        "* 5 Sandal\n",
        "* 6 Shirt\n",
        "* 7 Sneaker\n",
        "* 8 Bag\n",
        "* 9 Ankle boot"
      ]
    },
    {
      "cell_type": "markdown",
      "metadata": {
        "id": "W7gRQ3J2xbAP"
      },
      "source": [
        "### Task\n",
        "\n",
        "To classify fashion categories using the Multilayer Perceptron Learning algorithm based on the Fashion MNIST dataset.\n",
        "\n",
        "* Build the algorithm with the stochastic gradient descent strategy and the mini-batch gradient descent strategy, and simply compare the performance.\n",
        "\n",
        "* Increase the number of the nodes in the hidden layers to see whether it can improve the performance of the algorithm.\n",
        "\n",
        "* Add ReLU as another activation function, and compare the performance of the algorithms with different activation functions.\n",
        "\n",
        "\n",
        "### Tools\n",
        "\n",
        "In order to do this, I need the following libraries:\n",
        "\n",
        "* [matplotlib](http://metplotlib.org)\n",
        "* [numpy](https://numpy.org/doc/stable/index.html)\n",
        "* [tensorflow](https://www.tensorflow.org/)\n",
        "\n",
        "To load the Fashion MNIST data, we also need to import [keras.dataset](https://keras.io/api/datasets/)."
      ]
    },
    {
      "cell_type": "code",
      "execution_count": 1,
      "metadata": {
        "id": "yZyJw-jGxbAQ"
      },
      "outputs": [],
      "source": [
        "# Import the necessary libraries\n",
        "from tensorflow import keras\n",
        "import numpy as np\n",
        "import matplotlib.pyplot as plt\n",
        "from keras.datasets import fashion_mnist"
      ]
    },
    {
      "cell_type": "markdown",
      "metadata": {
        "id": "sBriGPc3xbAR"
      },
      "source": [
        "### Data Pre-Processing"
      ]
    },
    {
      "cell_type": "code",
      "execution_count": 2,
      "metadata": {
        "id": "x7x2Uf0-xbAS"
      },
      "outputs": [],
      "source": [
        "# Load the Fashion MNIST data\n",
        "(train_X, train_y), (test_X, test_y) = fashion_mnist.load_data()"
      ]
    },
    {
      "cell_type": "code",
      "execution_count": 3,
      "metadata": {
        "colab": {
          "base_uri": "https://localhost:8080/"
        },
        "id": "Q6PSlrRfxbAS",
        "outputId": "a877a177-ca85-464c-9952-8409a187ead4"
      },
      "outputs": [
        {
          "output_type": "execute_result",
          "data": {
            "text/plain": [
              "(60000, 28, 28)"
            ]
          },
          "metadata": {},
          "execution_count": 3
        }
      ],
      "source": [
        "# shape of the training set\n",
        "train_X.shape"
      ]
    },
    {
      "cell_type": "code",
      "execution_count": 4,
      "metadata": {
        "colab": {
          "base_uri": "https://localhost:8080/"
        },
        "id": "hxVRkc1fxbAS",
        "outputId": "9a9c2848-4cfb-407d-e552-bdb5b08695a7"
      },
      "outputs": [
        {
          "output_type": "execute_result",
          "data": {
            "text/plain": [
              "(28, 28)"
            ]
          },
          "metadata": {},
          "execution_count": 4
        }
      ],
      "source": [
        "# shape of the first matrix in the training set\n",
        "train_X[0].shape"
      ]
    },
    {
      "cell_type": "code",
      "execution_count": 5,
      "metadata": {
        "colab": {
          "base_uri": "https://localhost:8080/"
        },
        "id": "kWz1M9wUxbAT",
        "outputId": "c04a0cdb-8178-47b7-e1c8-ec3a5c0354e3"
      },
      "outputs": [
        {
          "output_type": "execute_result",
          "data": {
            "text/plain": [
              "(10000, 28, 28)"
            ]
          },
          "metadata": {},
          "execution_count": 5
        }
      ],
      "source": [
        "# shape of the test set\n",
        "test_X.shape"
      ]
    },
    {
      "cell_type": "markdown",
      "metadata": {
        "id": "-hkfNd5OxbAT"
      },
      "source": [
        "The training set has $60000$ pictures with $28 \\times 28$ pixel. The test set has $10000$ pictures with the same $28 \\times 28$ pixel.\n",
        "\n",
        "First data point in the training set."
      ]
    },
    {
      "cell_type": "code",
      "execution_count": 6,
      "metadata": {
        "colab": {
          "base_uri": "https://localhost:8080/",
          "height": 448
        },
        "id": "VNcpTpZkxbAT",
        "outputId": "318a9ea6-bed4-4154-cb75-b205d7912d7e"
      },
      "outputs": [
        {
          "output_type": "execute_result",
          "data": {
            "text/plain": [
              "<matplotlib.image.AxesImage at 0x7b8a5b7e52a0>"
            ]
          },
          "metadata": {},
          "execution_count": 6
        },
        {
          "output_type": "display_data",
          "data": {
            "text/plain": [
              "<Figure size 640x480 with 1 Axes>"
            ],
            "image/png": "[encoded data removed]"
          },
          "metadata": {}
        }
      ],
      "source": [
        "# Show the first matrix in the training set\n",
        "plt.imshow(train_X[0], cmap=\"gray\")"
      ]
    },
    {
      "cell_type": "code",
      "execution_count": 7,
      "metadata": {
        "colab": {
          "base_uri": "https://localhost:8080/"
        },
        "id": "zW8-o3BvxbAU",
        "outputId": "c3e6db67-e8d8-48b1-8ca4-35da9a416d6d"
      },
      "outputs": [
        {
          "output_type": "execute_result",
          "data": {
            "text/plain": [
              "9"
            ]
          },
          "metadata": {},
          "execution_count": 7
        }
      ],
      "source": [
        "# first label of the training set\n",
        "train_y[0]"
      ]
    },
    {
      "cell_type": "markdown",
      "metadata": {
        "id": "N0cZOH-WxbAU"
      },
      "source": [
        "The matrix and the label match with true label (9: Ankle boot).\n",
        "\n",
        "\n",
        "Evaluates the range of the grey scale ( 𝑥 ) in the training matrics. If the range is big, it may require scaling."
      ]
    },
    {
      "cell_type": "code",
      "execution_count": 8,
      "metadata": {
        "id": "S9FP1ULuxbAV",
        "outputId": "8b3fdd44-2f3d-4834-acaf-875e0e96741b",
        "colab": {
          "base_uri": "https://localhost:8080/"
        }
      },
      "outputs": [
        {
          "output_type": "execute_result",
          "data": {
            "text/plain": [
              "255"
            ]
          },
          "metadata": {},
          "execution_count": 8
        }
      ],
      "source": [
        "np.max(train_X)"
      ]
    },
    {
      "cell_type": "code",
      "execution_count": 9,
      "metadata": {
        "colab": {
          "base_uri": "https://localhost:8080/"
        },
        "id": "I9yrXc06xbAW",
        "outputId": "ea5d7e04-ff40-49ae-8898-4c5ceee8605f"
      },
      "outputs": [
        {
          "output_type": "execute_result",
          "data": {
            "text/plain": [
              "0"
            ]
          },
          "metadata": {},
          "execution_count": 9
        }
      ],
      "source": [
        "np.min(train_X)"
      ]
    },
    {
      "cell_type": "code",
      "execution_count": 10,
      "metadata": {
        "colab": {
          "base_uri": "https://localhost:8080/"
        },
        "id": "K40vbNYfxbAX",
        "outputId": "19c3cedf-4f13-4d41-969f-18a53523d954"
      },
      "outputs": [
        {
          "output_type": "execute_result",
          "data": {
            "text/plain": [
              "255"
            ]
          },
          "metadata": {},
          "execution_count": 10
        }
      ],
      "source": [
        "np.max(test_X)"
      ]
    },
    {
      "cell_type": "code",
      "execution_count": 11,
      "metadata": {
        "colab": {
          "base_uri": "https://localhost:8080/"
        },
        "id": "OTgBidi4xbAX",
        "outputId": "833effe6-bed0-4c90-bd45-bd4c4d25063b"
      },
      "outputs": [
        {
          "output_type": "execute_result",
          "data": {
            "text/plain": [
              "0"
            ]
          },
          "metadata": {},
          "execution_count": 11
        }
      ],
      "source": [
        "np.min(test_X)"
      ]
    },
    {
      "cell_type": "markdown",
      "metadata": {
        "id": "Lankq7tMxbAY"
      },
      "source": [
        "The the range of the grey scale ($x$) is $(0, 255)$, and thus, it requires scaling. To scale it divide it by the maximun value."
      ]
    },
    {
      "cell_type": "code",
      "execution_count": 12,
      "metadata": {
        "id": "XL-coY5qxbAY"
      },
      "outputs": [],
      "source": [
        "# Scale down X\n",
        "train_X = train_X/255\n",
        "test_X = test_X/255"
      ]
    },
    {
      "cell_type": "markdown",
      "metadata": {
        "id": "9Px0ALXnxbAY"
      },
      "source": [
        "Thereafter, reshape the input matrics ($X$) and output matrics ($y$) to a desire pattern that can fit our algorithm.\n",
        "\n",
        "First, for the input matrics ($X$), we need to flatten the $28 \\times 28$ matrix, and reshape it to a $784 \\times 1$ vector."
      ]
    },
    {
      "cell_type": "code",
      "execution_count": 13,
      "metadata": {
        "id": "VWQtoX-VxbAY"
      },
      "outputs": [],
      "source": [
        "# X will temp store flattened matrices\n",
        "X = []\n",
        "for x in train_X:\n",
        "  X.append(x.flatten().reshape(784, 1))"
      ]
    },
    {
      "cell_type": "markdown",
      "metadata": {
        "id": "Bx32HkhXxbAY"
      },
      "source": [
        "Second, for the output matrics ($y$), it is a single number, and we need to do the One Hot Encoding and represent it using a $10 \\times 1$ vector. The idea is just the same as we did for the digits. For example,\n",
        "\n",
        "$$y=9 \\overset{\\text {One Hot encode}}{\\rightarrow} y =\\begin{bmatrix}\n",
        "0\\\\\n",
        "0\\\\\n",
        "0\\\\\n",
        "0\\\\\n",
        "0\\\\\n",
        "0\\\\\n",
        "0\\\\\n",
        "0\\\\\n",
        "0\\\\\n",
        "1\n",
        "\\end{bmatrix}$$"
      ]
    },
    {
      "cell_type": "code",
      "execution_count": 14,
      "metadata": {
        "id": "qBSU2i3qxbAZ"
      },
      "outputs": [],
      "source": [
        "# Y will temp store one-hot encoded label vectors\n",
        "Y = []\n",
        "for y in train_y:\n",
        "  temp_vec = np.zeros((10, 1))\n",
        "  temp_vec[y][0] = 1.0\n",
        "  Y.append(temp_vec)"
      ]
    },
    {
      "cell_type": "code",
      "execution_count": 15,
      "metadata": {
        "id": "uafQRW6WxbAZ"
      },
      "outputs": [],
      "source": [
        "# Our data will be stored as a list of tuples\n",
        "train_data = [p for p in zip(X, Y)]"
      ]
    },
    {
      "cell_type": "markdown",
      "metadata": {
        "id": "7jo0bZFrxbAZ"
      },
      "source": [
        "So far, the \"train_data\" would have one column with the flattened $X$ vectors and the one column with the One Hot encoded label vectors. For better understanding of data pick the first data point and print the One Hot encoded label and the original true value to check the transformation."
      ]
    },
    {
      "cell_type": "code",
      "execution_count": 16,
      "metadata": {
        "colab": {
          "base_uri": "https://localhost:8080/"
        },
        "id": "Hlgz-5YVxbAZ",
        "outputId": "d8d3428b-07f6-49d7-80f3-90a6153b08bb"
      },
      "outputs": [
        {
          "output_type": "stream",
          "name": "stdout",
          "text": [
            "[[0.]\n",
            " [0.]\n",
            " [0.]\n",
            " [0.]\n",
            " [0.]\n",
            " [0.]\n",
            " [0.]\n",
            " [0.]\n",
            " [0.]\n",
            " [1.]]\n",
            "9\n"
          ]
        }
      ],
      "source": [
        "p = train_data[0]\n",
        "print(p[1])\n",
        "print(train_y[0])"
      ]
    },
    {
      "cell_type": "markdown",
      "metadata": {
        "id": "0eSIGRQhxbAZ"
      },
      "source": [
        "The transformation is correct! Repeat the same for the test set."
      ]
    },
    {
      "cell_type": "code",
      "execution_count": 17,
      "metadata": {
        "id": "Lz3rLs5RxbAa"
      },
      "outputs": [],
      "source": [
        "X = []\n",
        "for x in test_X:\n",
        "  X.append(x.flatten().reshape(784, 1))\n",
        "\n",
        "Y = []\n",
        "for y in test_y:\n",
        "  temp_vec = np.zeros((10, 1))\n",
        "  temp_vec[y][0] = 1.0\n",
        "  Y.append(temp_vec)\n",
        "\n",
        "test_data = [p for p in zip(X, Y)]"
      ]
    },
    {
      "cell_type": "markdown",
      "metadata": {
        "id": "j6Nyh6wJxbAa"
      },
      "source": [
        "---\n",
        "\n",
        "### Build the Algorithm\n",
        "\n",
        "To build the algorithm, there are several functions need to be defined.\n",
        "\n",
        "#### Activation Function\n",
        "Use  sigmoid function as the activation function,\n",
        "$$\\sigma(z)=\\frac {1}{1+e^{-z}}$$"
      ]
    },
    {
      "cell_type": "code",
      "execution_count": 18,
      "metadata": {
        "id": "hS5CHMbAxbAa"
      },
      "outputs": [],
      "source": [
        "def sigmoid(z):\n",
        "  return 1.0/(1.0+np.exp(-z))\n",
        "\n",
        "def sigmoid_prime(z):\n",
        "  return sigmoid(z)*(1.0-sigmoid(z))#### Loss Function"
      ]
    },
    {
      "cell_type": "markdown",
      "metadata": {
        "id": "ts3UJ4BWxbAb"
      },
      "source": [
        "#### Loss Function\n",
        "we use the Mean Sqaure Error cost:\n",
        "$$\n",
        "C = C(W, b) = \\frac{1}{2}\\sum_{i=1}^n(a^i - y^i)^2.\n",
        "$$"
      ]
    },
    {
      "cell_type": "code",
      "execution_count": 19,
      "metadata": {
        "id": "7mXDcYMyxbAb"
      },
      "outputs": [],
      "source": [
        "def mse(a, y):\n",
        "  return .5*sum((a[i]-y[i])**2 for i in range(10))[0]"
      ]
    },
    {
      "cell_type": "markdown",
      "metadata": {
        "id": "X78sClwJxbAb"
      },
      "source": [
        "#### The Function to Initialize the Weights and Bias\n",
        "\n",
        "For algorithm implementations fix the number of nodes in the four layers to be $748$, $60$, $60$, and $10$, repectively. And thus, the dimemsions of the weights are ($60$, $784$), ($60$, $60$), ($10$, $60$), repectively, and the dimensions of the bias are ($60$, $1$), ($60$, $1$), ($10$, $1$), repectively.\n",
        "\n",
        "To increase efficiency use scaling initializer while intializing."
      ]
    },
    {
      "cell_type": "code",
      "execution_count": 20,
      "metadata": {
        "id": "c7iB08AIrCbc"
      },
      "outputs": [],
      "source": [
        "def initialize_weights(layers = [784, 60, 60, 10]):\n",
        "  W = [[0.0]]  #add weight_0, to match the shape\n",
        "  B = [[0.0]]\n",
        "  for i in range(1, len(layers)):\n",
        "    w_temp = np.random.randn(layers[i], layers[i-1])*np.sqrt(2/layers[i-1])  #Scaling initializer to scale the shape\n",
        "    b_temp = np.random.randn(layers[i], 1)*np.sqrt(2/layers[i-1])\n",
        "\n",
        "    W.append(w_temp)\n",
        "    B.append(b_temp)\n",
        "  return W, B"
      ]
    },
    {
      "cell_type": "markdown",
      "metadata": {
        "id": "o_AGxegAxbAc"
      },
      "source": [
        "Let's check!"
      ]
    },
    {
      "cell_type": "code",
      "execution_count": 21,
      "metadata": {
        "id": "2NrwX_wRrEx8"
      },
      "outputs": [],
      "source": [
        "W, B = initialize_weights()"
      ]
    },
    {
      "cell_type": "code",
      "execution_count": 22,
      "metadata": {
        "id": "m1Xn3ZXJrN57"
      },
      "outputs": [],
      "source": [
        "x, y = train_data[0]"
      ]
    },
    {
      "cell_type": "markdown",
      "metadata": {
        "id": "TJccNp4ZxbAd"
      },
      "source": [
        "First layer:"
      ]
    },
    {
      "cell_type": "code",
      "execution_count": 23,
      "metadata": {
        "id": "G1cBt3SotSqZ"
      },
      "outputs": [],
      "source": [
        "a0 = x\n",
        "z1 = (W[1] @ a0) + B[1]\n",
        "a1 = sigmoid(z1)"
      ]
    },
    {
      "cell_type": "code",
      "execution_count": 24,
      "metadata": {
        "colab": {
          "base_uri": "https://localhost:8080/"
        },
        "id": "6dflUcRI-BpL",
        "outputId": "367c7b3a-a0b6-4c14-ea59-a324972f8f4f"
      },
      "outputs": [
        {
          "output_type": "execute_result",
          "data": {
            "text/plain": [
              "(60, 1)"
            ]
          },
          "metadata": {},
          "execution_count": 24
        }
      ],
      "source": [
        "a1.shape"
      ]
    },
    {
      "cell_type": "markdown",
      "metadata": {
        "id": "OfCnglkFxbAd"
      },
      "source": [
        "The shape of the output of the first layer match the desire dimension.\n",
        "\n",
        "Second layer:"
      ]
    },
    {
      "cell_type": "code",
      "execution_count": 25,
      "metadata": {
        "colab": {
          "base_uri": "https://localhost:8080/"
        },
        "id": "89DswyFrtiT5",
        "outputId": "365a64ef-5144-4530-8235-ee062e3435d2"
      },
      "outputs": [
        {
          "output_type": "stream",
          "name": "stdout",
          "text": [
            "(60, 1)\n"
          ]
        }
      ],
      "source": [
        "z2 = (W[2] @ a1) + B[2]\n",
        "a2 = sigmoid(z2)\n",
        "print(a2.shape)"
      ]
    },
    {
      "cell_type": "markdown",
      "metadata": {
        "id": "OV5jTOjIxbAd"
      },
      "source": [
        "The shape of the output of the second layer match the desire dimension.\n",
        "\n",
        "And the third layer:"
      ]
    },
    {
      "cell_type": "code",
      "execution_count": 26,
      "metadata": {
        "colab": {
          "base_uri": "https://localhost:8080/"
        },
        "id": "7uB0Mk4otizq",
        "outputId": "91f27347-ae97-4d4a-a35e-bfbfa58b23ed"
      },
      "outputs": [
        {
          "output_type": "stream",
          "name": "stdout",
          "text": [
            "(10, 1)\n"
          ]
        }
      ],
      "source": [
        "z3 = (W[3] @ a2) + B[3]\n",
        "a3 = sigmoid(z3)\n",
        "print(a3.shape)"
      ]
    },
    {
      "cell_type": "markdown",
      "metadata": {
        "id": "v0JZ6PjmxbAe"
      },
      "source": [
        "The shape of the output of the thired layer match the desire dimension.\n",
        "\n",
        "These results suggest that the \"innitialize_weights\" function works well. And then, we can put the input and output of the layers together."
      ]
    },
    {
      "cell_type": "code",
      "execution_count": 27,
      "metadata": {
        "id": "HdrA_7UOt5DX"
      },
      "outputs": [],
      "source": [
        "W, B = initialize_weights(layers=[784, 60, 60, 10])\n",
        "x, y = train_data[0]\n",
        "Z = [[0.0]]\n",
        "A = [x]\n",
        "L = len(B)\n",
        "for i in range(1, L):\n",
        "  z = (W[i] @ A[i-1]) + B[i]\n",
        "  a = sigmoid(z)\n",
        "\n",
        "  Z.append(z)\n",
        "  A.append(a)"
      ]
    },
    {
      "cell_type": "markdown",
      "metadata": {
        "id": "tB_O0_zWxbAe"
      },
      "source": [
        "To check whether the loop works well, we can print the shape of the output of the layer before the last layer:"
      ]
    },
    {
      "cell_type": "code",
      "execution_count": 28,
      "metadata": {
        "colab": {
          "base_uri": "https://localhost:8080/"
        },
        "id": "Qb0DO1EhurnG",
        "outputId": "41fdb735-9cc3-4bbe-cdf3-3650671410e0"
      },
      "outputs": [
        {
          "output_type": "execute_result",
          "data": {
            "text/plain": [
              "(10, 1)"
            ]
          },
          "metadata": {},
          "execution_count": 28
        }
      ],
      "source": [
        "A[-1].shape"
      ]
    },
    {
      "cell_type": "markdown",
      "metadata": {
        "id": "gCFxM1ocxbAe"
      },
      "source": [
        "The shape is correct!\n",
        "\n",
        "#### Output Error\n",
        "\n",
        "The output error is\n",
        "\n",
        "$$\\delta^{l-1}=\\triangledown_{a^{l-1}}C \\otimes \\sigma'(z^{l-1})$$"
      ]
    },
    {
      "cell_type": "code",
      "execution_count": 29,
      "metadata": {
        "id": "3jAcb248uswW"
      },
      "outputs": [],
      "source": [
        "# Measure the output error\n",
        "deltas = dict()\n",
        "delta_last = (A[-1] - y)*sigmoid_prime(Z[-1])\n",
        "deltas[L-1] = delta_last"
      ]
    },
    {
      "cell_type": "code",
      "execution_count": 30,
      "metadata": {
        "colab": {
          "base_uri": "https://localhost:8080/"
        },
        "id": "UZ7zYBAHBWDd",
        "outputId": "1b548dfd-190d-426e-cc20-bc5d77ab5b54"
      },
      "outputs": [
        {
          "output_type": "execute_result",
          "data": {
            "text/plain": [
              "array([[ 0.11151415],\n",
              "       [ 0.14810101],\n",
              "       [ 0.12586042],\n",
              "       [ 0.144992  ],\n",
              "       [ 0.11027407],\n",
              "       [ 0.08216455],\n",
              "       [ 0.144811  ],\n",
              "       [ 0.03448792],\n",
              "       [ 0.08048413],\n",
              "       [-0.04202016]])"
            ]
          },
          "metadata": {},
          "execution_count": 30
        }
      ],
      "source": [
        "deltas[L-1]"
      ]
    },
    {
      "cell_type": "markdown",
      "metadata": {
        "id": "YU37a-0UxbAf"
      },
      "source": [
        "#### Neuron Error\n",
        "\n",
        "According to the output error, for $l=L-2,...,1$, the neuron error is\n",
        "\n",
        "$$\\delta^{l}=\\left ( (w^{l+1})^T a^{l+1} \\right ) \\otimes \\sigma'(z^{l})$$"
      ]
    },
    {
      "cell_type": "code",
      "execution_count": 31,
      "metadata": {
        "id": "3M5rIEebvg90"
      },
      "outputs": [],
      "source": [
        "# calculate the neuron error\n",
        "for l in range(L-2, 0, -1):\n",
        "  deltas[l] = (W[l+1].T @ deltas[l+1])*sigmoid_prime(Z[l])"
      ]
    },
    {
      "cell_type": "code",
      "execution_count": 32,
      "metadata": {
        "colab": {
          "base_uri": "https://localhost:8080/"
        },
        "id": "ms6IMLOIvhqW",
        "outputId": "2b742555-2ef7-4d7b-8c75-26a1f20989cd"
      },
      "outputs": [
        {
          "output_type": "execute_result",
          "data": {
            "text/plain": [
              "(60, 1)"
            ]
          },
          "metadata": {},
          "execution_count": 32
        }
      ],
      "source": [
        "deltas[1].shape"
      ]
    },
    {
      "cell_type": "code",
      "execution_count": 33,
      "metadata": {
        "colab": {
          "base_uri": "https://localhost:8080/"
        },
        "id": "FfWDQW3sxbAf",
        "outputId": "351e5791-1f8c-47c3-d415-28aeaacd54a5"
      },
      "outputs": [
        {
          "output_type": "execute_result",
          "data": {
            "text/plain": [
              "(60, 1)"
            ]
          },
          "metadata": {},
          "execution_count": 33
        }
      ],
      "source": [
        "deltas[2].shape"
      ]
    },
    {
      "cell_type": "code",
      "execution_count": 34,
      "metadata": {
        "colab": {
          "base_uri": "https://localhost:8080/"
        },
        "id": "REsW1lTxxbAf",
        "outputId": "12a6b23a-4ef8-4c60-e536-6cfb0eb5f2fb"
      },
      "outputs": [
        {
          "output_type": "execute_result",
          "data": {
            "text/plain": [
              "(10, 1)"
            ]
          },
          "metadata": {},
          "execution_count": 34
        }
      ],
      "source": [
        "deltas[3].shape"
      ]
    },
    {
      "cell_type": "markdown",
      "metadata": {
        "id": "ZvbT99ubxbAg"
      },
      "source": [
        "The dimensions of the outputs of the layers are all correctly, suggesting that the codes for the output error and the neuron error work correctly.\n",
        "\n",
        "The gradient descent will be used to optimize the algorithm."
      ]
    },
    {
      "cell_type": "code",
      "execution_count": 35,
      "metadata": {
        "id": "wDGqFoFQwTqE"
      },
      "outputs": [],
      "source": [
        "# Set the learning rate\n",
        "alpha = 0.04"
      ]
    },
    {
      "cell_type": "code",
      "execution_count": 36,
      "metadata": {
        "id": "HKCHpDeVwgtj"
      },
      "outputs": [],
      "source": [
        "# To update the weights and bias\n",
        "for i in range(1, 4):\n",
        "  W[i] = W[i] - alpha*deltas[i]@A[i-1].T\n",
        "  B[i] = B[i] - alpha*deltas[i]"
      ]
    },
    {
      "cell_type": "markdown",
      "metadata": {
        "id": "sMMZfrNzxbAg"
      },
      "source": [
        "#### Feedforward Process"
      ]
    },
    {
      "cell_type": "code",
      "execution_count": 37,
      "metadata": {
        "id": "K8mHDPhiwxC0"
      },
      "outputs": [],
      "source": [
        "def forward_pass(W, B, p, predict_vector = False):\n",
        "  Z =[[0.0]]\n",
        "  A = [p[0]]\n",
        "  L = len(W)\n",
        "  for i in range(1, L):\n",
        "    z = (W[i] @ A[i-1]) + B[i]\n",
        "    a = sigmoid(z)\n",
        "\n",
        "    Z.append(z)\n",
        "    A.append(a)\n",
        "\n",
        "  if predict_vector == True:\n",
        "    return A[-1]\n",
        "  else:\n",
        "    return Z, A"
      ]
    },
    {
      "cell_type": "markdown",
      "metadata": {
        "id": "877pRiwRxbAg"
      },
      "source": [
        "#### Store the Neuron Errors"
      ]
    },
    {
      "cell_type": "code",
      "execution_count": 38,
      "metadata": {
        "id": "7N5Q8YXvxbAg"
      },
      "outputs": [],
      "source": [
        "def deltas_dict(W, B, p):\n",
        "  Z, A = forward_pass(W, B, p)\n",
        "  L = len(W)\n",
        "  deltas = dict()\n",
        "  deltas[L-1] = (A[-1] - p[1])*sigmoid_prime(Z[-1])\n",
        "  for l in range(L-2, 0, -1):\n",
        "    deltas[l] = (W[l+1].T @ deltas[l+1]) * sigmoid_prime(Z[l])\n",
        "\n",
        "  return A, deltas"
      ]
    },
    {
      "cell_type": "markdown",
      "metadata": {
        "id": "7J8Ci5GLxbAg"
      },
      "source": [
        "#### Average of Mean Squared Error\n",
        "\n",
        "This is to evaluate the overall performance for each step (epoch/mini-batch depends on settings)."
      ]
    },
    {
      "cell_type": "code",
      "execution_count": 39,
      "metadata": {
        "id": "nayiEoIVyepQ"
      },
      "outputs": [],
      "source": [
        "def MSE(W, B, data):\n",
        "  c = 0.0\n",
        "  for p in data:\n",
        "    a = forward_pass(W, B, p, predict_vector=True)\n",
        "    c += mse(a, p[1])\n",
        "  return c/len(data)"
      ]
    },
    {
      "cell_type": "markdown",
      "metadata": {
        "id": "HwQcmuiKxbAh"
      },
      "source": [
        "---\n",
        "\n",
        "### Implement the Algorithm"
      ]
    },
    {
      "cell_type": "code",
      "execution_count": 40,
      "metadata": {
        "colab": {
          "base_uri": "https://localhost:8080/"
        },
        "id": "jF7uMRvUzO3w",
        "outputId": "9b83a78a-11c7-49c0-bfb9-e1f1d7573350"
      },
      "outputs": [
        {
          "output_type": "stream",
          "name": "stdout",
          "text": [
            "Initial Cost = 1.7106383919282662\n"
          ]
        }
      ],
      "source": [
        "# Calculate the initial cost\n",
        "W, B = initialize_weights()\n",
        "print(f\"Initial Cost = {MSE(W, B, train_data)}\")"
      ]
    },
    {
      "cell_type": "code",
      "execution_count": 41,
      "metadata": {
        "colab": {
          "base_uri": "https://localhost:8080/",
          "height": 466
        },
        "id": "jioHLhRrzcow",
        "outputId": "dfa716cb-d01a-4d0d-d4ca-0e9335334052"
      },
      "outputs": [
        {
          "output_type": "stream",
          "name": "stdout",
          "text": [
            "Predicted Value = 7\n",
            "Actual Value = 2\n"
          ]
        },
        {
          "output_type": "display_data",
          "data": {
            "text/plain": [
              "<Figure size 640x480 with 1 Axes>"
            ],
            "image/png": "[encoded data removed]"
          },
          "metadata": {}
        }
      ],
      "source": [
        "# Show the performance\n",
        "i = np.random.randint(0, len(test_X))\n",
        "prediction = np.argmax(forward_pass(W, B, test_data[i], predict_vector=True))\n",
        "print(f\"Predicted Value = {prediction}\")\n",
        "print(f\"Actual Value = {test_y[i]}\")\n",
        "plt.imshow(test_X[i], cmap=\"gray\")\n",
        "plt.show()"
      ]
    },
    {
      "cell_type": "markdown",
      "metadata": {
        "id": "S4tdzXrqxbAh"
      },
      "source": [
        "The prediction is correct.\n",
        "\n",
        "Next, we train the model using Stochasitc Gradient Descent strategy.\n",
        "\n",
        "#### Stochasitc Gradient Descent\n",
        "\n",
        "First, we define a SGD function."
      ]
    },
    {
      "cell_type": "code",
      "execution_count": 42,
      "metadata": {
        "id": "F-Ggl8gj0VW-"
      },
      "outputs": [],
      "source": [
        "def stochastic_gradient_descent(W, B, data, alpha = 0.04, epochs = 3):\n",
        "  L = len(W)\n",
        "  print(f\"Initial Cost = {MSE(W, B, data)}\")\n",
        "  for k in range(epochs):\n",
        "    for p in data:\n",
        "      A, deltas = deltas_dict(W, B, p)\n",
        "      for i in range(1, L):\n",
        "        W[i] = W[i] - alpha*deltas[i]@A[i-1].T\n",
        "        B[i] = B[i] - alpha*deltas[i]\n",
        "    print(f\"{k} Cost = {MSE(W, B, data)}\")"
      ]
    },
    {
      "cell_type": "markdown",
      "metadata": {
        "id": "8LYBos_QxbAi"
      },
      "source": [
        "Let's train the model!"
      ]
    },
    {
      "cell_type": "code",
      "execution_count": 43,
      "metadata": {
        "colab": {
          "base_uri": "https://localhost:8080/"
        },
        "id": "hZ5TxxO1xbAi",
        "outputId": "60ddb6a3-161f-4d62-e177-081300242da6"
      },
      "outputs": [
        {
          "output_type": "stream",
          "name": "stdout",
          "text": [
            "Initial Cost = 1.7106383919282662\n",
            "0 Cost = 0.1248707175734994\n",
            "1 Cost = 0.10980278114760593\n",
            "2 Cost = 0.1026749086320706\n"
          ]
        }
      ],
      "source": [
        "stochastic_gradient_descent(W, B, train_data)"
      ]
    },
    {
      "cell_type": "markdown",
      "metadata": {
        "id": "S7C7x3l0xbAi"
      },
      "source": [
        "The costs of every epoch gradually decrease. The training process works well.\n",
        "\n",
        "We can also take a look at one example."
      ]
    },
    {
      "cell_type": "code",
      "execution_count": 44,
      "metadata": {
        "colab": {
          "base_uri": "https://localhost:8080/",
          "height": 466
        },
        "id": "ElZ7u0KXxbAi",
        "outputId": "d40a37e2-7781-45d2-814f-6d07c1fb7881"
      },
      "outputs": [
        {
          "output_type": "stream",
          "name": "stdout",
          "text": [
            "Predicted Value = 3\n",
            "Actual Value = 3\n"
          ]
        },
        {
          "output_type": "display_data",
          "data": {
            "text/plain": [
              "<Figure size 640x480 with 1 Axes>"
            ],
            "image/png": "[encoded data removed]"
          },
          "metadata": {}
        }
      ],
      "source": [
        "i = np.random.randint(0, len(test_X))\n",
        "prediction = np.argmax(forward_pass(W, B, test_data[i], predict_vector=True))\n",
        "print(f\"Predicted Value = {prediction}\")\n",
        "print(f\"Actual Value = {test_y[i]}\")\n",
        "plt.imshow(test_X[i], cmap=\"gray\")\n",
        "plt.show()"
      ]
    },
    {
      "cell_type": "markdown",
      "metadata": {
        "id": "LaaF0ptfxbAi"
      },
      "source": [
        "The prediction is correct!\n",
        "\n",
        "We can put all the functions together to make a class. In the meantime, we also define another strategy, **mini-batch gradient descent** to optimize the algorithm.\n"
      ]
    },
    {
      "cell_type": "code",
      "execution_count": 45,
      "metadata": {
        "id": "WCsZvETL0fk-"
      },
      "outputs": [],
      "source": [
        "class MultilayerPerceptron():\n",
        "\n",
        "  def __init__(self, layers = [784, 60, 60, 10]):\n",
        "    self.layers = layers\n",
        "    self.L = len(self.layers)\n",
        "    self.W =[[0.0]]\n",
        "    self.B = [[0.0]]\n",
        "    for i in range(1, self.L):\n",
        "      w_temp = np.random.randn(self.layers[i], self.layers[i-1])*np.sqrt(2/self.layers[i-1])\n",
        "      b_temp = np.random.randn(self.layers[i], 1)*np.sqrt(2/self.layers[i-1])\n",
        "\n",
        "      self.W.append(w_temp)\n",
        "      self.B.append(b_temp)\n",
        "\n",
        "  def reset_weights(self, layers = [784, 60, 60, 10]):\n",
        "    self.layers = layers\n",
        "    self.L = len(self.layers)\n",
        "    self.W = [[0.0]]\n",
        "    self.B = [[0.0]]\n",
        "    for i in range(1, self.L):\n",
        "      w_temp = np.random.randn(self.layers[i], self.layers[i-1])*np.sqrt(2/self.layers[i-1])\n",
        "      b_temp = np.random.randn(self.layers[i], 1)*np.sqrt(2/self.layers[i-1])\n",
        "\n",
        "      self.W.append(w_temp)\n",
        "      self.B.append(b_temp)\n",
        "\n",
        "\n",
        "  def forward_pass(self, p, predict_vector = False):\n",
        "    Z =[[0.0]]\n",
        "    A = [p[0]]\n",
        "    for i in range(1, self.L):\n",
        "      z = (self.W[i] @ A[i-1]) + self.B[i]\n",
        "      a = sigmoid(z)\n",
        "      Z.append(z)\n",
        "      A.append(a)\n",
        "\n",
        "    if predict_vector == True:\n",
        "      return A[-1]\n",
        "    else:\n",
        "      return Z, A\n",
        "\n",
        "  def MSE(self, data):\n",
        "    c = 0.0\n",
        "    for p in data:\n",
        "      a = self.forward_pass(p, predict_vector=True)\n",
        "      c += mse(a, p[1])\n",
        "    return c/len(data)\n",
        "\n",
        "  def deltas_dict(self, p):\n",
        "    Z, A = self.forward_pass(p)\n",
        "    deltas = dict()\n",
        "    deltas[self.L-1] = (A[-1] - p[1])*sigmoid_prime(Z[-1])\n",
        "    for l in range(self.L-2, 0, -1):\n",
        "      deltas[l] = (self.W[l+1].T @ deltas[l+1]) * sigmoid_prime(Z[l])\n",
        "\n",
        "    return A, deltas\n",
        "\n",
        "  def stochastic_gradient_descent(self, data, alpha = 0.04, epochs = 3):\n",
        "    print(f\"Initial Cost = {self.MSE(data)}\")\n",
        "    for k in range(epochs):\n",
        "      for p in data:\n",
        "        A, deltas = self.deltas_dict(p)\n",
        "        for i in range(1, self.L):\n",
        "          self.W[i] = self.W[i] - alpha*deltas[i]@A[i-1].T\n",
        "          self.B[i] = self.B[i] - alpha*deltas[i]\n",
        "    print(f\"{k} Cost = {self.MSE(data)}\")\n",
        "\n",
        "\n",
        "  def mini_batch_gradient_descent(self, data, batch_size = 15, alpha = 0.04, epochs = 3):\n",
        "    print(f\"Initial Cost = {self.MSE(data)}\")\n",
        "    data_length = len(data)\n",
        "    for k in range(epochs):\n",
        "        for j in range(0, data_length-batch_size, batch_size):\n",
        "            delta_list = []\n",
        "            A_list = []\n",
        "            for p in data[j:j+batch_size]:\n",
        "                A, deltas = self.deltas_dict(p)\n",
        "                delta_list.append(deltas)\n",
        "                A_list.append(A)\n",
        "\n",
        "                for i in range(1, self.L):\n",
        "                    self.W[i] = self.W[i] - (alpha/batch_size)*sum(da[0][i]@da[1][i-1].T for da in zip(delta_list, A_list))\n",
        "                    self.B[i] = self.B[i] - (alpha/batch_size)*sum(deltas[i] for deltas in delta_list)\n",
        "    print(f\"{k} Cost = {self.MSE(data)}\")"
      ]
    },
    {
      "cell_type": "markdown",
      "metadata": {
        "id": "yCrerLWUxbAj"
      },
      "source": [
        "Let's try our class!\n",
        "\n",
        "We can also setup 60 nodes for both hidden layers."
      ]
    },
    {
      "cell_type": "code",
      "execution_count": 46,
      "metadata": {
        "id": "JHxk-iGLHzEG"
      },
      "outputs": [],
      "source": [
        "net = MultilayerPerceptron(layers=[784, 60, 60, 10])"
      ]
    },
    {
      "cell_type": "markdown",
      "metadata": {
        "id": "usBgRh3_xbAj"
      },
      "source": [
        "To use the stochastic gradient descent strategy:"
      ]
    },
    {
      "cell_type": "code",
      "execution_count": 47,
      "metadata": {
        "colab": {
          "base_uri": "https://localhost:8080/"
        },
        "id": "mpgtRzZ3xbAj",
        "outputId": "5a8fb35f-d5f2-4801-e841-bf58246730dd"
      },
      "outputs": [
        {
          "output_type": "stream",
          "name": "stdout",
          "text": [
            "Initial Cost = 1.1234621308274426\n",
            "2 Cost = 0.09908708763560158\n"
          ]
        }
      ],
      "source": [
        "net.stochastic_gradient_descent(train_data)"
      ]
    },
    {
      "cell_type": "markdown",
      "metadata": {
        "id": "Pbba7LKAxbAj"
      },
      "source": [
        "To use the mini-batch gradient descent strategy:"
      ]
    },
    {
      "cell_type": "code",
      "execution_count": 48,
      "metadata": {
        "colab": {
          "base_uri": "https://localhost:8080/"
        },
        "id": "bnGcnC9zxbAj",
        "outputId": "61fb8c9c-a44a-43ea-e61e-af4d1f361635"
      },
      "outputs": [
        {
          "output_type": "stream",
          "name": "stdout",
          "text": [
            "Initial Cost = 0.09908708763560158\n",
            "2 Cost = 0.09024588192485186\n"
          ]
        }
      ],
      "source": [
        "net.mini_batch_gradient_descent(train_data)"
      ]
    },
    {
      "cell_type": "markdown",
      "metadata": {
        "id": "yNf6uopnxbAj"
      },
      "source": [
        "Compare these two strategy, the mini-batch gradient descent has a smaller cost than the stochastic gradient descent.\n",
        "\n",
        "Notably, stochastic gradient descent is more efficient than the min-batch gradient descent."
      ]
    },
    {
      "cell_type": "markdown",
      "metadata": {
        "id": "yKqKcADdxbAk"
      },
      "source": [
        "---\n",
        "\n",
        "### Increase the Number of Nodes in the Hidden Layers\n",
        "\n",
        "Fix 100 nodes for both hidden layers!"
      ]
    },
    {
      "cell_type": "code",
      "execution_count": 49,
      "metadata": {
        "id": "UgPFmJXJxbAk"
      },
      "outputs": [],
      "source": [
        "net = MultilayerPerceptron(layers=[784, 100, 100, 10])"
      ]
    },
    {
      "cell_type": "markdown",
      "metadata": {
        "id": "LPrWFthOxbAk"
      },
      "source": [
        "To use the stochastic gradient descent strategy:"
      ]
    },
    {
      "cell_type": "code",
      "execution_count": 50,
      "metadata": {
        "colab": {
          "base_uri": "https://localhost:8080/"
        },
        "id": "8wSPs133H_HT",
        "outputId": "f1ff8538-627a-4bd3-dc6d-7861382f9148"
      },
      "outputs": [
        {
          "output_type": "stream",
          "name": "stdout",
          "text": [
            "Initial Cost = 1.1394686919345334\n",
            "2 Cost = 0.10184779788770125\n"
          ]
        }
      ],
      "source": [
        "net.stochastic_gradient_descent(train_data)"
      ]
    },
    {
      "cell_type": "markdown",
      "metadata": {
        "id": "Izl9LTdKxbAk"
      },
      "source": [
        "To use the mini-batch gradient descent strategy:"
      ]
    },
    {
      "cell_type": "code",
      "execution_count": null,
      "metadata": {
        "colab": {
          "base_uri": "https://localhost:8080/"
        },
        "id": "eJVa0rfEIBXj",
        "outputId": "ea02b742-051e-4e02-d7e0-e0f28ecf1bb8"
      },
      "outputs": [
        {
          "output_type": "stream",
          "name": "stdout",
          "text": [
            "Initial Cost = 0.10184779788770125\n"
          ]
        }
      ],
      "source": [
        "net.mini_batch_gradient_descent(train_data)"
      ]
    },
    {
      "cell_type": "markdown",
      "metadata": {
        "id": "DYceCIu-xbAk"
      },
      "source": [
        "The mini-batch gradient descent still has a smaller cost than the stochastic gradient descent.\n",
        "\n",
        "Increasing the number of nodes in the hidden layers does not greatly change the loss in this case.\n",
        "\n",
        "---\n",
        "\n",
        "### Add ReLU as Another Activation Function\n",
        "\n",
        "The ReLU function is\n",
        "$$R(z)= max(0,z)$$\n",
        "\n",
        "The derivation of the ReLU function is\n",
        "\n",
        "$$R'(z)= \\left\\{\\begin{matrix}\n",
        "0, \\text{ if }z < 0\\\\\n",
        "1, \\text{ if }z > 0\n",
        "\\end{matrix}\\right.$$\n"
      ]
    },
    {
      "cell_type": "code",
      "execution_count": null,
      "metadata": {
        "id": "2cOuodcixbAl"
      },
      "outputs": [],
      "source": [
        "def ReLU(z):\n",
        "  return np.maximum(0, z)\n",
        "\n",
        "def ReLU_prime(z):\n",
        "    if z > 0:\n",
        "        return 1.0\n",
        "    else:\n",
        "        return None"
      ]
    },
    {
      "cell_type": "code",
      "execution_count": null,
      "metadata": {
        "id": "acp6OxxbxbAl"
      },
      "outputs": [],
      "source": [
        "ReLU(10)"
      ]
    },
    {
      "cell_type": "code",
      "execution_count": null,
      "metadata": {
        "id": "zvhLlFaLxbAl"
      },
      "outputs": [],
      "source": [
        "ReLU_prime(10)"
      ]
    },
    {
      "cell_type": "markdown",
      "metadata": {
        "id": "3k1pc2cZxbAl"
      },
      "source": [
        "Then we can add the ReLU function and modify the \"MultilayerPerceptron\" class:\n",
        "* Add another parameter, \"activation_type\"\n",
        "* Define \"activation\" function, which returns the value of the specified activation function\n",
        "* Define \"activation_prime\" function, which returns the value of the derivation of the specified activation function\n",
        "* Modified other function to call the \"activation\" and \"activation_prime\" functions"
      ]
    },
    {
      "cell_type": "code",
      "execution_count": null,
      "metadata": {
        "id": "al-pchjTxbAl"
      },
      "outputs": [],
      "source": [
        "class MultilayerPerceptron():\n",
        "\n",
        "  def __init__(self, layers = [784, 60, 60, 10], activation_type = 'sigmoid'):\n",
        "    self.layers = layers\n",
        "    self.activation_type = activation_type\n",
        "    self.L = len(self.layers)\n",
        "    self.W =[[0.0]]\n",
        "    self.B = [[0.0]]\n",
        "    for i in range(1, self.L):\n",
        "      w_temp = np.random.randn(self.layers[i], self.layers[i-1])*np.sqrt(2/self.layers[i-1])\n",
        "      b_temp = np.random.randn(self.layers[i], 1)*np.sqrt(2/self.layers[i-1])\n",
        "\n",
        "      self.W.append(w_temp)\n",
        "      self.B.append(b_temp)\n",
        "\n",
        "  def reset_weights(self, layers = [784, 60, 60, 10]):\n",
        "    self.layers = layers\n",
        "    self.L = len(self.layers)\n",
        "    self.W = [[0.0]]\n",
        "    self.B = [[0.0]]\n",
        "    for i in range(1, self.L):\n",
        "      w_temp = np.random.randn(self.layers[i], self.layers[i-1])*np.sqrt(2/self.layers[i-1])\n",
        "      b_temp = np.random.randn(self.layers[i], 1)*np.sqrt(2/self.layers[i-1])\n",
        "\n",
        "      self.W.append(w_temp)\n",
        "      self.B.append(b_temp)\n",
        "\n",
        "  def activation(self, z, type):\n",
        "    if type == \"sigmoid\":\n",
        "        return 1.0/(1.0+np.exp(-z))\n",
        "    elif type == \"ReLU\":\n",
        "        return np.maximum(0, z)\n",
        "    else:\n",
        "        return None\n",
        "\n",
        "  def activation_prime(self, z, type):\n",
        "    if type == \"sigmoid\":\n",
        "        return sigmoid(z)*(1.0-sigmoid(z))\n",
        "    elif type == \"ReLU\":\n",
        "        return np.where(z > 0, 1.0, 0)\n",
        "    else:\n",
        "        return None\n",
        "\n",
        "  def forward_pass(self, p, predict_vector = False):\n",
        "    Z =[[0.0]]\n",
        "    A = [p[0]]\n",
        "    for i in range(1, self.L):\n",
        "      z = (self.W[i] @ A[i-1]) + self.B[i]\n",
        "      a = self.activation(z, self.activation_type)\n",
        "      Z.append(z)\n",
        "      A.append(a)\n",
        "\n",
        "    if predict_vector == True:\n",
        "      return A[-1]\n",
        "    else:\n",
        "      return Z, A\n",
        "\n",
        "  def MSE(self, data):\n",
        "    c = 0.0\n",
        "    for p in data:\n",
        "      a = self.forward_pass(p, predict_vector=True)\n",
        "      c += mse(a, p[1])\n",
        "    return c/len(data)\n",
        "\n",
        "  def deltas_dict(self, p):\n",
        "    Z, A = self.forward_pass(p)\n",
        "    deltas = dict()\n",
        "    deltas[self.L-1] = (A[-1] - p[1])*self.activation_prime(Z[-1], self.activation_type)\n",
        "    for l in range(self.L-2, 0, -1):\n",
        "      deltas[l] = (self.W[l+1].T @ deltas[l+1]) * self.activation_prime(Z[l], self.activation_type)\n",
        "\n",
        "    return A, deltas\n",
        "\n",
        "  def stochastic_gradient_descent(self, data, alpha = 0.04, epochs = 3):\n",
        "    print(f\"Initial Cost = {self.MSE(data)}\")\n",
        "    for k in range(epochs):\n",
        "      for p in data:\n",
        "        A, deltas = self.deltas_dict(p)\n",
        "        for i in range(1, self.L):\n",
        "          self.W[i] = self.W[i] - alpha*deltas[i]@A[i-1].T\n",
        "          self.B[i] = self.B[i] - alpha*deltas[i]\n",
        "    print(f\"{k} Cost = {self.MSE(data)}\")\n",
        "\n",
        "\n",
        "  def mini_batch_gradient_descent(self, data, batch_size = 15, alpha = 0.04, epochs = 3):\n",
        "    print(f\"Initial Cost = {self.MSE(data)}\")\n",
        "    data_length = len(data)\n",
        "    for k in range(epochs):\n",
        "        for j in range(0, data_length-batch_size, batch_size):\n",
        "            delta_list = []\n",
        "            A_list = []\n",
        "            for p in data[j:j+batch_size]:\n",
        "                A, deltas = self.deltas_dict(p)\n",
        "                delta_list.append(deltas)\n",
        "                A_list.append(A)\n",
        "\n",
        "                for i in range(1, self.L):\n",
        "                    self.W[i] = self.W[i] - (alpha/batch_size)*sum(da[0][i]@da[1][i-1].T for da in zip(delta_list, A_list))\n",
        "                    self.B[i] = self.B[i] - (alpha/batch_size)*sum(deltas[i] for deltas in delta_list)\n",
        "    print(f\"{k} Cost = {self.MSE(data)}\")"
      ]
    },
    {
      "cell_type": "markdown",
      "metadata": {
        "id": "w_q65p-LxbAm"
      },
      "source": [
        "To use ReLU as the activation function:"
      ]
    },
    {
      "cell_type": "code",
      "execution_count": null,
      "metadata": {
        "id": "K8r5mEuRxbAm"
      },
      "outputs": [],
      "source": [
        "net = MultilayerPerceptron(layers=[784, 60, 60, 10], activation_type = 'ReLU')"
      ]
    },
    {
      "cell_type": "code",
      "execution_count": null,
      "metadata": {
        "id": "_Ou0ZBuMxbAm"
      },
      "outputs": [],
      "source": [
        "net.stochastic_gradient_descent(train_data)"
      ]
    },
    {
      "cell_type": "code",
      "execution_count": null,
      "metadata": {
        "id": "xGf0f2Y4xbAm"
      },
      "outputs": [],
      "source": [
        "net.mini_batch_gradient_descent(train_data)"
      ]
    },
    {
      "cell_type": "markdown",
      "metadata": {
        "id": "D3HDqJPaxbAm"
      },
      "source": [
        "When using ReLU as the activation function, the mini-batch gradient descent also has a smaller cost than the stochastic gradient descent.\n",
        "\n",
        "Compare the results of the sigmoid function, ReLU gains a larger, suggesting that the sigmoid function is better than ReLU in this case.\n",
        "\n",
        "---\n",
        "\n",
        "## Conclusion\n",
        "\n",
        "The algorithm performs well.\n",
        "\n",
        "To classify the fashion categories, the mini-batch gradient descent strategy performs better than the stochastic gradient descent strategy.\n",
        "\n",
        "Increaing the number of nodes in the hidden layer does not affect the performance of the algorithm in this case.\n",
        "\n",
        "In the meantime, sigmoid function is the better than ReLU to classify the fashion categories."
      ]
    }
  ],
  "metadata": {
    "colab": {
      "provenance": [],
      "include_colab_link": true
    },
    "kernelspec": {
      "display_name": "Python 3.9.13 ('base')",
      "language": "python",
      "name": "python3"
    },
    "language_info": {
      "codemirror_mode": {
        "name": "ipython",
        "version": 3
      },
      "file_extension": ".py",
      "mimetype": "text/x-python",
      "name": "python",
      "nbconvert_exporter": "python",
      "pygments_lexer": "ipython3",
      "version": "3.9.13"
    },
    "vscode": {
      "interpreter": {
        "hash": "677d7cb3073a0b8867375a4e72362c1c4e2840c39316c25dc6682a3b67a3dfcd"
      }
    }
  },
  "nbformat": 4,
  "nbformat_minor": 0
}