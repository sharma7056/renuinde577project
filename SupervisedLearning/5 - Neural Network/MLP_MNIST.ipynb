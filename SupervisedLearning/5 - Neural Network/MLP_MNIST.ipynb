{
  "cells": [
    {
      "cell_type": "markdown",
      "metadata": {
        "id": "view-in-github",
        "colab_type": "text"
      },
      "source": [
        "<a href=\"https://colab.research.google.com/github/sharma7056/renuinde577project/blob/main/SupervisedLearning/5%20-%20Neural%20Network/MLP_MNIST.ipynb\" target=\"_parent\"><img src=\"https://colab.research.google.com/assets/colab-badge.svg\" alt=\"Open In Colab\"/></a>"
      ]
    },
    {
      "cell_type": "markdown",
      "metadata": {
        "id": "Bqgbfx91A4-V"
      },
      "source": [
        "# Multilayer Perceptron"
      ]
    },
    {
      "cell_type": "markdown",
      "metadata": {
        "id": "11c2oXTSA4-X"
      },
      "source": [
        "In this notebook, implementats a multilayered perceptron with a single input layer with $784$ input nodes, 2 hidden layers of arbitrary size, and $10$ output nodes. These layers will be denoted $L^0, L^1, L^2,$ and $L^{3}$, respectively.\n",
        "\n",
        "<img src=\"https://github.com/sharma7056/renuinde577project/blob/main/SupervisedLearning/5%20-%20Neural%20Network/Image/MLP_2.png?raw=1\" alt=\"Drawing\" style=\"width: 500px;\"/>\n",
        "\n",
        "\n",
        "For $l = 1, 2, 3$, layer $l$ will have two phases:\n",
        "\n",
        "* The preactivation phase $z^l = W^la^{l-1} + b^l,$\n",
        "* The postactivation phase $a^l = \\sigma(z^l).$\n",
        "\n",
        "The preactivation phase includes a weighted linear combination of postactivation values in the previous layer. The postactivation values includes passing the preactivation value through a chosen activation function elementwise. For notational convience, let $a^0 = x$, where $x$ is the current input data into our network. This notebook use sigmoid function as the activation function.\n",
        "\n",
        "* Sigmoid Function\n",
        "$$\n",
        "\\sigma(s) = \\frac{1}{1+e^{-s}}.\n",
        "$$\n",
        "\n",
        "For our cost function, Mean Squared Error is used:\n",
        "$$\n",
        "C = C(W, b) = \\frac{1}{2}\\sum_{i=1}^n(a^i - y^i)^2.\n",
        "$$"
      ]
    },
    {
      "cell_type": "markdown",
      "metadata": {
        "id": "aUUMDs3KA4-Y"
      },
      "source": [
        "### About the MNIST Data Set\n",
        "\n",
        "The MNIST data set consists of $70000$ images of hand written digits, $60000$ of which are typically used as labeled training examples, where the other $10000$ are used for testing your learning model on.\n",
        "\n",
        "<img src=\"https://github.com/sharma7056/renuinde577project/blob/main/SupervisedLearning/5%20-%20Neural%20Network/Image/mnist-3.0.1.png?raw=1\" alt=\"Drawing\" style=\"width: 500px;\"/>\n"
      ]
    },
    {
      "cell_type": "markdown",
      "metadata": {
        "id": "7X8F9AqMA4-Y"
      },
      "source": [
        "Each image in the MNIST data set is stored as a matrix."
      ]
    },
    {
      "cell_type": "markdown",
      "metadata": {
        "id": "KfP4n4kkA4-Y"
      },
      "source": [
        "### Goal\n",
        "\n",
        "To classify handwritten digits using the Multilayer Perceptron Learning algorithm based on the [MNIST data](https://en.wikipedia.org/wiki/MNIST_database).\n",
        "\n",
        "### Tools\n",
        "\n",
        "This notebook uses the following libraries:\n",
        "\n",
        "* [matplotlib](http://metplotlib.org)\n",
        "* [numpy](https://numpy.org/doc/stable/index.html)\n",
        "* [tensorflow](https://www.tensorflow.org/)\n",
        "\n",
        "To load the MNIST data, we also need to import [keras.dataset](https://keras.io/api/datasets/)."
      ]
    },
    {
      "cell_type": "code",
      "execution_count": 1,
      "metadata": {
        "id": "Y9uAkNhNk8rR"
      },
      "outputs": [],
      "source": [
        "# Import the necessaty libraries\n",
        "from tensorflow import keras\n",
        "import numpy as np\n",
        "import matplotlib.pyplot as plt\n",
        "from keras.datasets import mnist"
      ]
    },
    {
      "cell_type": "markdown",
      "metadata": {
        "id": "stLONDz_A4-a"
      },
      "source": [
        "### Data Pre-Processing"
      ]
    },
    {
      "cell_type": "code",
      "execution_count": 2,
      "metadata": {
        "colab": {
          "base_uri": "https://localhost:8080/"
        },
        "id": "7YjyCr3nA4-a",
        "outputId": "5072d6f7-c31b-4fc8-d9cd-42b554172441"
      },
      "outputs": [
        {
          "output_type": "stream",
          "name": "stdout",
          "text": [
            "Downloading data from https://storage.googleapis.com/tensorflow/tf-keras-datasets/mnist.npz\n",
            "11490434/11490434 [==============================] - 0s 0us/step\n"
          ]
        }
      ],
      "source": [
        "# Load the MNIST data\n",
        "(train_X, train_y), (test_X, test_y) = mnist.load_data()"
      ]
    },
    {
      "cell_type": "code",
      "execution_count": 3,
      "metadata": {
        "colab": {
          "base_uri": "https://localhost:8080/"
        },
        "id": "DLMr5GoLoXOX",
        "outputId": "36bafe6d-ea3a-4007-c4f8-41bb1e41446e"
      },
      "outputs": [
        {
          "output_type": "execute_result",
          "data": {
            "text/plain": [
              "(60000, 28, 28)"
            ]
          },
          "metadata": {},
          "execution_count": 3
        }
      ],
      "source": [
        "# shape of the training set\n",
        "train_X.shape"
      ]
    },
    {
      "cell_type": "code",
      "execution_count": 4,
      "metadata": {
        "colab": {
          "base_uri": "https://localhost:8080/"
        },
        "id": "NnmX7oVroqnB",
        "outputId": "8b5f63c8-c7fe-480c-fce2-63fe7223dbb7"
      },
      "outputs": [
        {
          "output_type": "execute_result",
          "data": {
            "text/plain": [
              "(28, 28)"
            ]
          },
          "metadata": {},
          "execution_count": 4
        }
      ],
      "source": [
        "# shape of the first matrix in the training set\n",
        "train_X[0].shape"
      ]
    },
    {
      "cell_type": "code",
      "execution_count": 5,
      "metadata": {
        "colab": {
          "base_uri": "https://localhost:8080/"
        },
        "id": "LCz44XiPpQLx",
        "outputId": "9c503dc6-698a-4c8d-88da-6d6b9c862e2a"
      },
      "outputs": [
        {
          "output_type": "execute_result",
          "data": {
            "text/plain": [
              "(10000, 28, 28)"
            ]
          },
          "metadata": {},
          "execution_count": 5
        }
      ],
      "source": [
        "# shape of the test set\n",
        "test_X.shape"
      ]
    },
    {
      "cell_type": "markdown",
      "metadata": {
        "id": "ePXVR0LhA4-c"
      },
      "source": [
        "The training set has $60000$ pictures with $28 \\times 28$ pixel. The test set has $10000$ pictures with the same $28 \\times 28$ pixel.\n",
        "\n",
        "For a better understanding check the first data point in the training set."
      ]
    },
    {
      "cell_type": "code",
      "execution_count": 6,
      "metadata": {
        "colab": {
          "base_uri": "https://localhost:8080/",
          "height": 448
        },
        "id": "U500A41Goxyw",
        "outputId": "ae467e79-811d-4429-ad51-6c30730e6d30"
      },
      "outputs": [
        {
          "output_type": "execute_result",
          "data": {
            "text/plain": [
              "<matplotlib.image.AxesImage at 0x7d157b887310>"
            ]
          },
          "metadata": {},
          "execution_count": 6
        },
        {
          "output_type": "display_data",
          "data": {
            "text/plain": [
              "<Figure size 640x480 with 1 Axes>"
            ],
            "image/png": "[encoded data removed]"
          },
          "metadata": {}
        }
      ],
      "source": [
        "# first matrix in the training set\n",
        "plt.imshow(train_X[0], cmap=\"gray\")"
      ]
    },
    {
      "cell_type": "code",
      "execution_count": 7,
      "metadata": {
        "colab": {
          "base_uri": "https://localhost:8080/"
        },
        "id": "_2Bn_HlOouLx",
        "outputId": "58651647-b826-4423-a0e5-e81ce6fc25f1"
      },
      "outputs": [
        {
          "output_type": "execute_result",
          "data": {
            "text/plain": [
              "5"
            ]
          },
          "metadata": {},
          "execution_count": 7
        }
      ],
      "source": [
        "# first label of the training set\n",
        "train_y[0]"
      ]
    },
    {
      "cell_type": "markdown",
      "metadata": {
        "id": "DCna5zkaA4-c"
      },
      "source": [
        "The matrix and the label match.\n",
        "\n",
        "Examines, the range of the grey scale ($x$) in the training matrics. If the range is big, it may require scaling."
      ]
    },
    {
      "cell_type": "code",
      "execution_count": 8,
      "metadata": {
        "colab": {
          "base_uri": "https://localhost:8080/"
        },
        "id": "MNQ2bm7oo2mx",
        "outputId": "1e863a84-c301-4d7f-db00-a4833a4b1213"
      },
      "outputs": [
        {
          "output_type": "execute_result",
          "data": {
            "text/plain": [
              "255"
            ]
          },
          "metadata": {},
          "execution_count": 8
        }
      ],
      "source": [
        "np.max(train_X)"
      ]
    },
    {
      "cell_type": "code",
      "execution_count": 9,
      "metadata": {
        "colab": {
          "base_uri": "https://localhost:8080/"
        },
        "id": "scJEuiz0A4-d",
        "outputId": "7b10d6b0-0ec9-4fea-9640-fed2742f325a"
      },
      "outputs": [
        {
          "output_type": "execute_result",
          "data": {
            "text/plain": [
              "0"
            ]
          },
          "metadata": {},
          "execution_count": 9
        }
      ],
      "source": [
        "np.min(train_X)"
      ]
    },
    {
      "cell_type": "code",
      "execution_count": 10,
      "metadata": {
        "colab": {
          "base_uri": "https://localhost:8080/"
        },
        "id": "6iWnw9JzA4-d",
        "outputId": "fb15f6f7-58e2-49b0-a801-6a4c2940fe05"
      },
      "outputs": [
        {
          "output_type": "execute_result",
          "data": {
            "text/plain": [
              "255"
            ]
          },
          "metadata": {},
          "execution_count": 10
        }
      ],
      "source": [
        "np.max(test_X)"
      ]
    },
    {
      "cell_type": "code",
      "execution_count": 11,
      "metadata": {
        "colab": {
          "base_uri": "https://localhost:8080/"
        },
        "id": "YskPigidA4-d",
        "outputId": "796a5a92-b5fd-4d4a-c70d-4566fa6140c6"
      },
      "outputs": [
        {
          "output_type": "execute_result",
          "data": {
            "text/plain": [
              "0"
            ]
          },
          "metadata": {},
          "execution_count": 11
        }
      ],
      "source": [
        "np.min(test_X)"
      ]
    },
    {
      "cell_type": "markdown",
      "metadata": {
        "id": "waoGVMVqA4-e"
      },
      "source": [
        "The the range of the grey scale ($x$) is $(0, 255)$, and thus, require scaling. To scale it down divide by the maximun value."
      ]
    },
    {
      "cell_type": "code",
      "execution_count": 12,
      "metadata": {
        "id": "3mAE2bI2o-BB"
      },
      "outputs": [],
      "source": [
        "# Scale down X\n",
        "train_X = train_X/255\n",
        "test_X = test_X/255"
      ]
    },
    {
      "cell_type": "markdown",
      "metadata": {
        "id": "7zljt7MrA4-e"
      },
      "source": [
        "Then we need to reshape the input matrics ($X$) and output matrics ($y$) to a desire pattern that can fit our algorithm.\n",
        "\n",
        "First, for the input matrics ($X$), we need to flatten the $28 \\times 28$ matrix, and reshape it to a $784 \\times 1$ vector."
      ]
    },
    {
      "cell_type": "code",
      "execution_count": 13,
      "metadata": {
        "id": "FW-IrQORpSLw"
      },
      "outputs": [],
      "source": [
        "# X will temp store flattened matrices\n",
        "X = []\n",
        "for x in train_X:\n",
        "  X.append(x.flatten().reshape(784, 1))"
      ]
    },
    {
      "cell_type": "markdown",
      "metadata": {
        "id": "FftqLlqRA4-f"
      },
      "source": [
        "Second, for the output matrics ($y$), it is a single number, and we need to do the One Hot Encoding and represent it using a $10 \\times 1$ vector. For example,\n",
        "\n",
        "$$y=5 \\overset{\\text {One Hot encode}}{\\rightarrow} y =\\begin{bmatrix}\n",
        "0\\\\\n",
        "0\\\\\n",
        "0\\\\\n",
        "0\\\\\n",
        "0\\\\\n",
        "1\\\\\n",
        "0\\\\\n",
        "0\\\\\n",
        "0\\\\\n",
        "0\n",
        "\\end{bmatrix}$$"
      ]
    },
    {
      "cell_type": "code",
      "execution_count": 14,
      "metadata": {
        "id": "X7BxIFm8A4-f"
      },
      "outputs": [],
      "source": [
        "# Y will temp store one-hot encoded label vectors\n",
        "Y = []\n",
        "for y in train_y:\n",
        "  temp_vec = np.zeros((10, 1))\n",
        "  temp_vec[y][0] = 1.0\n",
        "  Y.append(temp_vec)"
      ]
    },
    {
      "cell_type": "code",
      "execution_count": 15,
      "metadata": {
        "id": "yi7Zy32FA4-f"
      },
      "outputs": [],
      "source": [
        "# Our data will be stored as a list of tuples\n",
        "train_data = [p for p in zip(X, Y)]"
      ]
    },
    {
      "cell_type": "markdown",
      "metadata": {
        "id": "qCa3KluOA4-f"
      },
      "source": [
        "So far, the \"train_data\" would have one column with the flattened $X$ vectors and the one column with the One Hot encoded label vectors. We can pick the first data point and print the One Hot encoded label and the original true value to check the transformation."
      ]
    },
    {
      "cell_type": "code",
      "execution_count": 16,
      "metadata": {
        "colab": {
          "base_uri": "https://localhost:8080/"
        },
        "id": "90JMH_S57bih",
        "outputId": "58676c25-0978-4148-96da-ed78af5802c5"
      },
      "outputs": [
        {
          "output_type": "stream",
          "name": "stdout",
          "text": [
            "[[0.]\n",
            " [0.]\n",
            " [0.]\n",
            " [0.]\n",
            " [0.]\n",
            " [1.]\n",
            " [0.]\n",
            " [0.]\n",
            " [0.]\n",
            " [0.]]\n",
            "5\n"
          ]
        }
      ],
      "source": [
        "p = train_data[0]\n",
        "print(p[1])\n",
        "print(train_y[0])"
      ]
    },
    {
      "cell_type": "markdown",
      "metadata": {
        "id": "nn4gMG6_A4-g"
      },
      "source": [
        "The transformation is correct! Repeat the same thing on the test set."
      ]
    },
    {
      "cell_type": "code",
      "execution_count": 17,
      "metadata": {
        "id": "KcZIVltbp_vv"
      },
      "outputs": [],
      "source": [
        "X = []\n",
        "for x in test_X:\n",
        "  X.append(x.flatten().reshape(784, 1))\n",
        "\n",
        "Y = []\n",
        "for y in test_y:\n",
        "  temp_vec = np.zeros((10, 1))\n",
        "  temp_vec[y][0] = 1.0\n",
        "  Y.append(temp_vec)\n",
        "\n",
        "test_data = [p for p in zip(X, Y)]"
      ]
    },
    {
      "cell_type": "markdown",
      "metadata": {
        "id": "3heeBJwzA4-g"
      },
      "source": [
        "---\n",
        "#### Activation Function\n",
        "Use the sigmoid function as the activation function,\n",
        "$$\\sigma(z)=\\frac {1}{1+e^{-z}}$$\n"
      ]
    },
    {
      "cell_type": "code",
      "execution_count": 18,
      "metadata": {
        "id": "uQ2RvMV5qJsu"
      },
      "outputs": [],
      "source": [
        "def sigmoid(z):\n",
        "  return 1.0/(1.0+np.exp(-z))\n",
        "\n",
        "def sigmoid_prime(z):\n",
        "  return sigmoid(z)*(1.0-sigmoid(z))"
      ]
    },
    {
      "cell_type": "markdown",
      "metadata": {
        "id": "q3CSZ2xRA4-g"
      },
      "source": [
        "#### Loss Function\n",
        "Use the Mean Sqaure Error cost:\n",
        "$$\n",
        "C = C(W, b) = \\frac{1}{2}\\sum_{i=1}^n(a^i - y^i)^2.\n",
        "$$"
      ]
    },
    {
      "cell_type": "code",
      "execution_count": 19,
      "metadata": {
        "id": "JGa9ZA59A4-h"
      },
      "outputs": [],
      "source": [
        "def mse(a, y):\n",
        "  return .5*sum((a[i]-y[i])**2 for i in range(10))[0]"
      ]
    },
    {
      "cell_type": "markdown",
      "metadata": {
        "id": "2sd2D-7oA4-h"
      },
      "source": [
        "#### The Function to Initialize the Weights and Bias"
      ]
    },
    {
      "cell_type": "code",
      "execution_count": 20,
      "metadata": {
        "id": "c7iB08AIrCbc"
      },
      "outputs": [],
      "source": [
        "def initialize_weights(layers = [784, 60, 60, 10]):\n",
        "  W = [[0.0]]  #add weight_0, to match the shape\n",
        "  B = [[0.0]]\n",
        "  for i in range(1, len(layers)):\n",
        "    w_temp = np.random.randn(layers[i], layers[i-1])*np.sqrt(2/layers[i-1])  #Scaling initializer to scale the shape\n",
        "    b_temp = np.random.randn(layers[i], 1)*np.sqrt(2/layers[i-1])\n",
        "\n",
        "    W.append(w_temp)\n",
        "    B.append(b_temp)\n",
        "  return W, B"
      ]
    },
    {
      "cell_type": "markdown",
      "metadata": {
        "id": "7o4RVAvCA4-h"
      },
      "source": [
        "Let's test!"
      ]
    },
    {
      "cell_type": "code",
      "execution_count": 21,
      "metadata": {
        "id": "2NrwX_wRrEx8"
      },
      "outputs": [],
      "source": [
        "W, B = initialize_weights()"
      ]
    },
    {
      "cell_type": "code",
      "execution_count": 22,
      "metadata": {
        "id": "m1Xn3ZXJrN57"
      },
      "outputs": [],
      "source": [
        "x, y = train_data[0]"
      ]
    },
    {
      "cell_type": "markdown",
      "metadata": {
        "id": "YjHyL9mfA4-i"
      },
      "source": [
        "First layer:"
      ]
    },
    {
      "cell_type": "code",
      "execution_count": 23,
      "metadata": {
        "id": "G1cBt3SotSqZ"
      },
      "outputs": [],
      "source": [
        "a0 = x\n",
        "z1 = (W[1] @ a0) + B[1]\n",
        "a1 = sigmoid(z1)"
      ]
    },
    {
      "cell_type": "code",
      "execution_count": 24,
      "metadata": {
        "colab": {
          "base_uri": "https://localhost:8080/"
        },
        "id": "6dflUcRI-BpL",
        "outputId": "134776da-1f3c-4c33-ceb5-2e381e9ad84d"
      },
      "outputs": [
        {
          "output_type": "execute_result",
          "data": {
            "text/plain": [
              "(60, 1)"
            ]
          },
          "metadata": {},
          "execution_count": 24
        }
      ],
      "source": [
        "a1.shape"
      ]
    },
    {
      "cell_type": "markdown",
      "metadata": {
        "id": "7uyc22pUA4-i"
      },
      "source": [
        "The shape of the output of the first layer match the desire dimension.\n",
        "\n",
        "Second layer:"
      ]
    },
    {
      "cell_type": "code",
      "execution_count": 25,
      "metadata": {
        "colab": {
          "base_uri": "https://localhost:8080/"
        },
        "id": "89DswyFrtiT5",
        "outputId": "bec25072-82ef-4000-afdd-0416dce72d1f"
      },
      "outputs": [
        {
          "output_type": "stream",
          "name": "stdout",
          "text": [
            "(60, 1)\n"
          ]
        }
      ],
      "source": [
        "z2 = (W[2] @ a1) + B[2]\n",
        "a2 = sigmoid(z2)\n",
        "print(a2.shape)"
      ]
    },
    {
      "cell_type": "markdown",
      "metadata": {
        "id": "dxDpII1VA4-j"
      },
      "source": [
        "The shape of the output of the second layer match the desire dimension.\n",
        "\n",
        "And the third layer:"
      ]
    },
    {
      "cell_type": "code",
      "execution_count": 26,
      "metadata": {
        "colab": {
          "base_uri": "https://localhost:8080/"
        },
        "id": "7uB0Mk4otizq",
        "outputId": "51ee590d-5b85-440b-bae9-489fa2d922d4"
      },
      "outputs": [
        {
          "output_type": "stream",
          "name": "stdout",
          "text": [
            "(10, 1)\n"
          ]
        }
      ],
      "source": [
        "z3 = (W[3] @ a2) + B[3]\n",
        "a3 = sigmoid(z3)\n",
        "print(a3.shape)"
      ]
    },
    {
      "cell_type": "markdown",
      "metadata": {
        "id": "hVqB1i8-A4-j"
      },
      "source": [
        "The shape of the output of the thired layer match the desire dimension.\n",
        "\n",
        "These results suggest that the \"innitialize_weights\" function works well. And then, we can put the input and output of the layers together."
      ]
    },
    {
      "cell_type": "code",
      "execution_count": 27,
      "metadata": {
        "id": "HdrA_7UOt5DX"
      },
      "outputs": [],
      "source": [
        "W, B = initialize_weights(layers=[784, 60, 60, 10])\n",
        "x, y = train_data[0]\n",
        "Z = [[0.0]]\n",
        "A = [x]\n",
        "L = len(B)\n",
        "for i in range(1, L):\n",
        "  z = (W[i] @ A[i-1]) + B[i]\n",
        "  a = sigmoid(z)\n",
        "\n",
        "  Z.append(z)\n",
        "  A.append(a)"
      ]
    },
    {
      "cell_type": "markdown",
      "metadata": {
        "id": "GfDMce7gA4-k"
      },
      "source": [
        "To check whether the loop works well, we can print the shape of the output of the layer before the last layer:"
      ]
    },
    {
      "cell_type": "code",
      "execution_count": 28,
      "metadata": {
        "colab": {
          "base_uri": "https://localhost:8080/"
        },
        "id": "Qb0DO1EhurnG",
        "outputId": "0a911ed3-3511-40eb-be32-ddd55929159e"
      },
      "outputs": [
        {
          "output_type": "execute_result",
          "data": {
            "text/plain": [
              "(10, 1)"
            ]
          },
          "metadata": {},
          "execution_count": 28
        }
      ],
      "source": [
        "A[-1].shape"
      ]
    },
    {
      "cell_type": "markdown",
      "metadata": {
        "id": "rvKxI1dKA4-k"
      },
      "source": [
        "The shape is correct! Let's move on!\n",
        "\n",
        "#### Output Error\n",
        "\n",
        "The output error is\n",
        "\n",
        "$$\\delta^{l-1}=\\triangledown_{a^{l-1}}C \\otimes \\sigma'(z^{l-1})$$"
      ]
    },
    {
      "cell_type": "code",
      "execution_count": 29,
      "metadata": {
        "id": "3jAcb248uswW"
      },
      "outputs": [],
      "source": [
        "# Measure the output error\n",
        "deltas = dict()\n",
        "delta_last = (A[-1] - y)*sigmoid_prime(Z[-1])\n",
        "deltas[L-1] = delta_last"
      ]
    },
    {
      "cell_type": "code",
      "execution_count": 30,
      "metadata": {
        "colab": {
          "base_uri": "https://localhost:8080/"
        },
        "id": "UZ7zYBAHBWDd",
        "outputId": "6ca16c1d-e8cf-494e-e95b-7b65eac8c951"
      },
      "outputs": [
        {
          "output_type": "execute_result",
          "data": {
            "text/plain": [
              "array([[ 0.14535701],\n",
              "       [ 0.14737826],\n",
              "       [ 0.08449969],\n",
              "       [ 0.06322291],\n",
              "       [ 0.1147144 ],\n",
              "       [-0.10523133],\n",
              "       [ 0.12496116],\n",
              "       [ 0.0369833 ],\n",
              "       [ 0.04050453],\n",
              "       [ 0.11406395]])"
            ]
          },
          "metadata": {},
          "execution_count": 30
        }
      ],
      "source": [
        "deltas[L-1]"
      ]
    },
    {
      "cell_type": "markdown",
      "metadata": {
        "id": "W_uCo8_6A4-l"
      },
      "source": [
        "#### Neuron Error\n",
        "\n",
        "According to the output error, for $l=L-2,...,1$, the neuron error is\n",
        "\n",
        "$$\\delta^{l}=\\left ( (w^{l+1})^T a^{l+1} \\right ) \\otimes \\sigma'(z^{l})$$"
      ]
    },
    {
      "cell_type": "code",
      "execution_count": 31,
      "metadata": {
        "id": "3M5rIEebvg90"
      },
      "outputs": [],
      "source": [
        "# calculate the neuron error\n",
        "for l in range(L-2, 0, -1):\n",
        "  deltas[l] = (W[l+1].T @ deltas[l+1])*sigmoid_prime(Z[l])"
      ]
    },
    {
      "cell_type": "code",
      "execution_count": 32,
      "metadata": {
        "colab": {
          "base_uri": "https://localhost:8080/"
        },
        "id": "ms6IMLOIvhqW",
        "outputId": "bd07e0b5-2178-4166-f29b-c08417827967"
      },
      "outputs": [
        {
          "output_type": "execute_result",
          "data": {
            "text/plain": [
              "(60, 1)"
            ]
          },
          "metadata": {},
          "execution_count": 32
        }
      ],
      "source": [
        "deltas[1].shape"
      ]
    },
    {
      "cell_type": "code",
      "execution_count": 33,
      "metadata": {
        "colab": {
          "base_uri": "https://localhost:8080/"
        },
        "id": "K_RhQbiJA4-m",
        "outputId": "f10ebb0e-199c-43b2-d2c3-ff94bfe39750"
      },
      "outputs": [
        {
          "output_type": "execute_result",
          "data": {
            "text/plain": [
              "(60, 1)"
            ]
          },
          "metadata": {},
          "execution_count": 33
        }
      ],
      "source": [
        "deltas[2].shape"
      ]
    },
    {
      "cell_type": "code",
      "execution_count": 34,
      "metadata": {
        "colab": {
          "base_uri": "https://localhost:8080/"
        },
        "id": "iyBoovhIA4-m",
        "outputId": "b9580b96-1f51-487a-e8cf-2dfc267754df"
      },
      "outputs": [
        {
          "output_type": "execute_result",
          "data": {
            "text/plain": [
              "(10, 1)"
            ]
          },
          "metadata": {},
          "execution_count": 34
        }
      ],
      "source": [
        "deltas[3].shape"
      ]
    },
    {
      "cell_type": "markdown",
      "metadata": {
        "id": "Mq4yPTs7A4-m"
      },
      "source": [
        "The dimensions of the outputs of the layers are all correctly, suggesting that the codes for the output error and the neuron error work correctly.\n",
        "\n",
        "The gradient descent will be used to optimize the algorithm."
      ]
    },
    {
      "cell_type": "code",
      "execution_count": 35,
      "metadata": {
        "id": "wDGqFoFQwTqE"
      },
      "outputs": [],
      "source": [
        "# Set the learning rate\n",
        "alpha = 0.04"
      ]
    },
    {
      "cell_type": "code",
      "execution_count": 36,
      "metadata": {
        "id": "HKCHpDeVwgtj"
      },
      "outputs": [],
      "source": [
        "# To update the weights and bias\n",
        "for i in range(1, 4):\n",
        "  W[i] = W[i] - alpha*deltas[i]@A[i-1].T\n",
        "  B[i] = B[i] - alpha*deltas[i]"
      ]
    },
    {
      "cell_type": "markdown",
      "metadata": {
        "id": "2THvR1NaA4-n"
      },
      "source": [
        "#### Feedforward Process"
      ]
    },
    {
      "cell_type": "code",
      "execution_count": 37,
      "metadata": {
        "id": "K8mHDPhiwxC0"
      },
      "outputs": [],
      "source": [
        "def forward_pass(W, B, p, predict_vector = False):\n",
        "  Z =[[0.0]]\n",
        "  A = [p[0]]\n",
        "  L = len(W)\n",
        "  for i in range(1, L):\n",
        "    z = (W[i] @ A[i-1]) + B[i]\n",
        "    a = sigmoid(z)\n",
        "\n",
        "    Z.append(z)\n",
        "    A.append(a)\n",
        "\n",
        "  if predict_vector == True:\n",
        "    return A[-1]\n",
        "  else:\n",
        "    return Z, A"
      ]
    },
    {
      "cell_type": "markdown",
      "metadata": {
        "id": "xzgwlrGjA4-n"
      },
      "source": [
        "#### Store the Neuron Errors"
      ]
    },
    {
      "cell_type": "code",
      "execution_count": 38,
      "metadata": {
        "id": "cT86kfr6A4-n"
      },
      "outputs": [],
      "source": [
        "def deltas_dict(W, B, p):\n",
        "  Z, A = forward_pass(W, B, p)\n",
        "  L = len(W)\n",
        "  deltas = dict()\n",
        "  deltas[L-1] = (A[-1] - p[1])*sigmoid_prime(Z[-1])\n",
        "  for l in range(L-2, 0, -1):\n",
        "    deltas[l] = (W[l+1].T @ deltas[l+1]) * sigmoid_prime(Z[l])\n",
        "\n",
        "  return A, deltas"
      ]
    },
    {
      "cell_type": "markdown",
      "metadata": {
        "id": "KEc936sVA4-o"
      },
      "source": [
        "#### Average of Mean Squared Error"
      ]
    },
    {
      "cell_type": "code",
      "execution_count": 39,
      "metadata": {
        "id": "nayiEoIVyepQ"
      },
      "outputs": [],
      "source": [
        "def MSE(W, B, data):\n",
        "  c = 0.0\n",
        "  for p in data:\n",
        "    a = forward_pass(W, B, p, predict_vector=True)\n",
        "    c += mse(a, p[1])\n",
        "  return c/len(data)"
      ]
    },
    {
      "cell_type": "markdown",
      "metadata": {
        "id": "VHSMbMijA4-o"
      },
      "source": [
        "---\n",
        "\n",
        "### Implement the Algorithm"
      ]
    },
    {
      "cell_type": "code",
      "execution_count": 40,
      "metadata": {
        "colab": {
          "base_uri": "https://localhost:8080/"
        },
        "id": "jF7uMRvUzO3w",
        "outputId": "a192bbce-2511-4bfe-df25-2d63dd4f9ac5"
      },
      "outputs": [
        {
          "output_type": "stream",
          "name": "stdout",
          "text": [
            "Initial Cost = 1.54842481114301\n"
          ]
        }
      ],
      "source": [
        "# Calculate the initial cost\n",
        "W, B = initialize_weights()\n",
        "print(f\"Initial Cost = {MSE(W, B, train_data)}\")"
      ]
    },
    {
      "cell_type": "code",
      "execution_count": 41,
      "metadata": {
        "colab": {
          "base_uri": "https://localhost:8080/",
          "height": 466
        },
        "id": "jioHLhRrzcow",
        "outputId": "500d17c3-53bb-4829-f219-874999317a33"
      },
      "outputs": [
        {
          "output_type": "stream",
          "name": "stdout",
          "text": [
            "Predicted Value = 7\n",
            "Actual Value = 3\n"
          ]
        },
        {
          "output_type": "display_data",
          "data": {
            "text/plain": [
              "<Figure size 640x480 with 1 Axes>"
            ],
            "image/png": "[encoded data removed]"
          },
          "metadata": {}
        }
      ],
      "source": [
        "# Show the performance\n",
        "i = np.random.randint(0, len(test_X))\n",
        "prediction = np.argmax(forward_pass(W, B, test_data[i], predict_vector=True))\n",
        "print(f\"Predicted Value = {prediction}\")\n",
        "print(f\"Actual Value = {test_y[i]}\")\n",
        "plt.imshow(test_X[i], cmap=\"gray\")\n",
        "plt.show()"
      ]
    },
    {
      "cell_type": "markdown",
      "metadata": {
        "id": "Y8tlM9lvA4-p"
      },
      "source": [
        "The prediction is wrong.\n",
        "\n",
        "Next, train the model using Stochasitc Gradient Descent method.\n",
        "\n",
        "#### Stochasitc Gradient Descent\n"
      ]
    },
    {
      "cell_type": "code",
      "execution_count": 42,
      "metadata": {
        "id": "F-Ggl8gj0VW-"
      },
      "outputs": [],
      "source": [
        "def stochastic_gradient_descent(W, B, data, alpha = 0.04, epochs = 3):\n",
        "  L = len(W)\n",
        "  print(f\"Initial Cost = {MSE(W, B, data)}\")\n",
        "  for k in range(epochs):\n",
        "    for p in data:\n",
        "      A, deltas = deltas_dict(W, B, p)\n",
        "      for i in range(1, L):\n",
        "        W[i] = W[i] - alpha*deltas[i]@A[i-1].T\n",
        "        B[i] = B[i] - alpha*deltas[i]\n",
        "    print(f\"{k} Cost = {MSE(W, B, data)}\")"
      ]
    },
    {
      "cell_type": "code",
      "execution_count": 43,
      "metadata": {
        "colab": {
          "base_uri": "https://localhost:8080/"
        },
        "id": "X1iRbNB1A4-p",
        "outputId": "74763d03-1696-4dd8-e527-b6ac0f9f5a2a"
      },
      "outputs": [
        {
          "output_type": "stream",
          "name": "stdout",
          "text": [
            "Initial Cost = 1.54842481114301\n",
            "0 Cost = 0.07478222907947903\n",
            "1 Cost = 0.053794121641219446\n",
            "2 Cost = 0.0430767682125117\n"
          ]
        }
      ],
      "source": [
        "stochastic_gradient_descent(W, B, train_data)"
      ]
    },
    {
      "cell_type": "markdown",
      "metadata": {
        "id": "_OR1hsLIA4-q"
      },
      "source": [
        "The costs of every epoch gradually decrease. The training process works well.\n",
        "\n",
        "One example."
      ]
    },
    {
      "cell_type": "code",
      "execution_count": 44,
      "metadata": {
        "colab": {
          "base_uri": "https://localhost:8080/",
          "height": 466
        },
        "id": "bT68icm1A4-q",
        "outputId": "66b3f2cf-05de-4123-9ce0-1fb03ebdc39e"
      },
      "outputs": [
        {
          "output_type": "stream",
          "name": "stdout",
          "text": [
            "Predicted Value = 3\n",
            "Actual Value = 3\n"
          ]
        },
        {
          "output_type": "display_data",
          "data": {
            "text/plain": [
              "<Figure size 640x480 with 1 Axes>"
            ],
            "image/png": "[encoded data removed]"
          },
          "metadata": {}
        }
      ],
      "source": [
        "i = np.random.randint(0, len(test_X))\n",
        "prediction = np.argmax(forward_pass(W, B, test_data[i], predict_vector=True))\n",
        "print(f\"Predicted Value = {prediction}\")\n",
        "print(f\"Actual Value = {test_y[i]}\")\n",
        "plt.imshow(test_X[i], cmap=\"gray\")\n",
        "plt.show()"
      ]
    },
    {
      "cell_type": "markdown",
      "metadata": {
        "id": "hVl4MpD2A4-q"
      },
      "source": [
        "The prediction matches the true label.\n",
        "\n",
        "Put all the functions together to make a class. Also, use **mini-batch gradient descent** to optimize the algorithm.\n"
      ]
    },
    {
      "cell_type": "code",
      "execution_count": 45,
      "metadata": {
        "id": "WCsZvETL0fk-"
      },
      "outputs": [],
      "source": [
        "class MultilayerPerceptron():\n",
        "\n",
        "  def __init__(self, layers = [784, 60, 60, 10]):\n",
        "    self.layers = layers\n",
        "    self.L = len(self.layers)\n",
        "    self.W =[[0.0]]\n",
        "    self.B = [[0.0]]\n",
        "    for i in range(1, self.L):\n",
        "      w_temp = np.random.randn(self.layers[i], self.layers[i-1])*np.sqrt(2/self.layers[i-1])\n",
        "      b_temp = np.random.randn(self.layers[i], 1)*np.sqrt(2/self.layers[i-1])\n",
        "\n",
        "      self.W.append(w_temp)\n",
        "      self.B.append(b_temp)\n",
        "\n",
        "  def reset_weights(self, layers = [784, 60, 60, 10]):\n",
        "    self.layers = layers\n",
        "    self.L = len(self.layers)\n",
        "    self.W = [[0.0]]\n",
        "    self.B = [[0.0]]\n",
        "    for i in range(1, self.L):\n",
        "      w_temp = np.random.randn(self.layers[i], self.layers[i-1])*np.sqrt(2/self.layers[i-1])\n",
        "      b_temp = np.random.randn(self.layers[i], 1)*np.sqrt(2/self.layers[i-1])\n",
        "\n",
        "      self.W.append(w_temp)\n",
        "      self.B.append(b_temp)\n",
        "\n",
        "\n",
        "  def forward_pass(self, p, predict_vector = False):\n",
        "    Z =[[0.0]]\n",
        "    A = [p[0]]\n",
        "    for i in range(1, self.L):\n",
        "      z = (self.W[i] @ A[i-1]) + self.B[i]\n",
        "      a = sigmoid(z)\n",
        "      Z.append(z)\n",
        "      A.append(a)\n",
        "\n",
        "    if predict_vector == True:\n",
        "      return A[-1]\n",
        "    else:\n",
        "      return Z, A\n",
        "\n",
        "  def MSE(self, data):\n",
        "    c = 0.0\n",
        "    for p in data:\n",
        "      a = self.forward_pass(p, predict_vector=True)\n",
        "      c += mse(a, p[1])\n",
        "    return c/len(data)\n",
        "\n",
        "  def deltas_dict(self, p):\n",
        "    Z, A = self.forward_pass(p)\n",
        "    deltas = dict()\n",
        "    deltas[self.L-1] = (A[-1] - p[1])*sigmoid_prime(Z[-1])\n",
        "    for l in range(self.L-2, 0, -1):\n",
        "      deltas[l] = (self.W[l+1].T @ deltas[l+1]) * sigmoid_prime(Z[l])\n",
        "\n",
        "    return A, deltas\n",
        "\n",
        "  def stochastic_gradient_descent(self, data, alpha = 0.04, epochs = 3):\n",
        "    print(f\"Initial Cost = {self.MSE(data)}\")\n",
        "    for k in range(epochs):\n",
        "      for p in data:\n",
        "        A, deltas = self.deltas_dict(p)\n",
        "        for i in range(1, self.L):\n",
        "          self.W[i] = self.W[i] - alpha*deltas[i]@A[i-1].T\n",
        "          self.B[i] = self.B[i] - alpha*deltas[i]\n",
        "    print(f\"{k} Cost = {self.MSE(data)}\")\n",
        "\n",
        "\n",
        "  def mini_batch_gradient_descent(self, data, batch_size = 15, alpha = 0.04, epochs = 3):\n",
        "    print(f\"Initial Cost = {self.MSE(data)}\")\n",
        "    data_length = len(data)\n",
        "    for k in range(epochs):\n",
        "        for j in range(0, data_length-batch_size, batch_size):\n",
        "            delta_list = []\n",
        "            A_list = []\n",
        "            for p in data[j:j+batch_size]:\n",
        "                A, deltas = self.deltas_dict(p)\n",
        "                delta_list.append(deltas)\n",
        "                A_list.append(A)\n",
        "\n",
        "                for i in range(1, self.L):\n",
        "                    self.W[i] = self.W[i] - (alpha/batch_size)*sum(da[0][i]@da[1][i-1].T for da in zip(delta_list, A_list))\n",
        "                    self.B[i] = self.B[i] - (alpha/batch_size)*sum(deltas[i] for deltas in delta_list)\n",
        "    print(f\"{k} Cost = {self.MSE(data)}\")"
      ]
    },
    {
      "cell_type": "markdown",
      "metadata": {
        "id": "lzb0pgstA4-q"
      },
      "source": [
        "Let's try our class!\n",
        "\n",
        "We can also setup 60 nodes for both hidden layers."
      ]
    },
    {
      "cell_type": "code",
      "execution_count": 46,
      "metadata": {
        "id": "JHxk-iGLHzEG"
      },
      "outputs": [],
      "source": [
        "net = MultilayerPerceptron(layers=[784, 60, 60, 10])"
      ]
    },
    {
      "cell_type": "markdown",
      "metadata": {
        "id": "XdH4zqk9A4-r"
      },
      "source": [
        "To use the stochastic gradient descent strategy:"
      ]
    },
    {
      "cell_type": "code",
      "execution_count": 47,
      "metadata": {
        "colab": {
          "base_uri": "https://localhost:8080/"
        },
        "id": "8wSPs133H_HT",
        "outputId": "eb3dcb95-a763-4936-e3c0-6ad2e2fa0f88"
      },
      "outputs": [
        {
          "output_type": "stream",
          "name": "stdout",
          "text": [
            "Initial Cost = 1.2323385718448203\n",
            "2 Cost = 0.042240101959140165\n"
          ]
        }
      ],
      "source": [
        "net.stochastic_gradient_descent(train_data)"
      ]
    },
    {
      "cell_type": "markdown",
      "metadata": {
        "id": "Hh6NpXJwA4-s"
      },
      "source": [
        "To use the mini-batch gradient descent strategy:"
      ]
    },
    {
      "cell_type": "code",
      "execution_count": 48,
      "metadata": {
        "colab": {
          "base_uri": "https://localhost:8080/"
        },
        "id": "eJVa0rfEIBXj",
        "outputId": "9e085ab3-f732-48b5-c108-d0d986835818"
      },
      "outputs": [
        {
          "output_type": "stream",
          "name": "stdout",
          "text": [
            "Initial Cost = 0.042240101959140165\n",
            "2 Cost = 0.03151405386137952\n"
          ]
        }
      ],
      "source": [
        "net.mini_batch_gradient_descent(train_data)"
      ]
    },
    {
      "cell_type": "markdown",
      "metadata": {
        "id": "06e44z-BA4-s"
      },
      "source": [
        "Between mini-batch gradient descent and stochastic gradient descent, mini-batch gradient descent has a smaller cost.\n",
        "\n",
        "However, the mini-batch gradient descent requires more resources and takes a longer time to compute."
      ]
    }
  ],
  "metadata": {
    "colab": {
      "name": "MLP_Good.ipynb",
      "provenance": [],
      "include_colab_link": true
    },
    "kernelspec": {
      "display_name": "Python 3.9.13 ('base')",
      "language": "python",
      "name": "python3"
    },
    "language_info": {
      "codemirror_mode": {
        "name": "ipython",
        "version": 3
      },
      "file_extension": ".py",
      "mimetype": "text/x-python",
      "name": "python",
      "nbconvert_exporter": "python",
      "pygments_lexer": "ipython3",
      "version": "3.9.13"
    },
    "vscode": {
      "interpreter": {
        "hash": "677d7cb3073a0b8867375a4e72362c1c4e2840c39316c25dc6682a3b67a3dfcd"
      }
    }
  },
  "nbformat": 4,
  "nbformat_minor": 0
}